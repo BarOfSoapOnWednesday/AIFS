{
  "nbformat": 4,
  "nbformat_minor": 0,
  "metadata": {
    "colab": {
      "name": "Linear Regression.ipynb",
      "provenance": [],
      "authorship_tag": "ABX9TyNM2sWvuQDT6cVlxdbCX/sO",
      "include_colab_link": true
    },
    "kernelspec": {
      "name": "python3",
      "display_name": "Python 3"
    }
  },
  "cells": [
    {
      "cell_type": "markdown",
      "metadata": {
        "id": "view-in-github",
        "colab_type": "text"
      },
      "source": [
        "<a href=\"https://colab.research.google.com/github/surajx/AIFS/blob/master/labs/AIFS_ML_Linear_Regression.ipynb\" target=\"_parent\"><img src=\"https://colab.research.google.com/assets/colab-badge.svg\" alt=\"Open In Colab\"/></a>"
      ]
    },
    {
      "cell_type": "code",
      "metadata": {
        "id": "XWMmfzPXZ-jX",
        "colab_type": "code",
        "colab": {}
      },
      "source": [
        "from sklearn.preprocessing import StandardScaler\n",
        "from sklearn.linear_model import LinearRegression\n",
        "from sklearn.metrics import mean_squared_error\n",
        "\n",
        "import pandas as pd\n",
        "import numpy as np\n",
        "\n",
        "import matplotlib.pyplot as plt"
      ],
      "execution_count": 0,
      "outputs": []
    },
    {
      "cell_type": "code",
      "metadata": {
        "id": "FGDUoLhRagFt",
        "colab_type": "code",
        "colab": {}
      },
      "source": [
        "hd_df = pd.read_csv(\"sample_data/california_housing_train.csv\")\n",
        "hd_df_test = pd.read_csv(\"sample_data/california_housing_test.csv\")\n",
        "\n",
        "#Use only one feature: housing_median_age\n",
        "X_train = hd_df.iloc[:50,2]\n",
        "y_train = hd_df.iloc[:50,-1]\n",
        "\n",
        "X_test = hd_df_test.iloc[:50,2]\n",
        "y_test = hd_df_test.iloc[:50,-1]\n",
        "\n",
        "X_train = np.expand_dims(X_train, axis=1)\n",
        "X_test = np.expand_dims(X_test, axis=1)"
      ],
      "execution_count": 0,
      "outputs": []
    },
    {
      "cell_type": "code",
      "metadata": {
        "id": "r04BvBSZasVX",
        "colab_type": "code",
        "colab": {}
      },
      "source": [
        "sc = StandardScaler()\n",
        "sc.fit(X_train)\n",
        "X_train_std = sc.transform(X_train)\n",
        "X_test_std = sc.transform(X_test)"
      ],
      "execution_count": 0,
      "outputs": []
    },
    {
      "cell_type": "code",
      "metadata": {
        "id": "QoBT2g8uf65D",
        "colab_type": "code",
        "colab": {}
      },
      "source": [
        "model = LinearRegression()"
      ],
      "execution_count": 0,
      "outputs": []
    },
    {
      "cell_type": "code",
      "metadata": {
        "id": "SSNquNeLgr0B",
        "colab_type": "code",
        "colab": {
          "base_uri": "https://localhost:8080/",
          "height": 34
        },
        "outputId": "9e99f0af-1dd9-441c-e2ff-cfc39c0e96cb"
      },
      "source": [
        "model.fit(X_train_std, y_train);"
      ],
      "execution_count": 96,
      "outputs": [
        {
          "output_type": "execute_result",
          "data": {
            "text/plain": [
              "LinearRegression(copy_X=True, fit_intercept=True, n_jobs=None, normalize=False)"
            ]
          },
          "metadata": {
            "tags": []
          },
          "execution_count": 96
        }
      ]
    },
    {
      "cell_type": "code",
      "metadata": {
        "id": "AvARgDVRgu_z",
        "colab_type": "code",
        "colab": {}
      },
      "source": [
        "y_pred = model.predict(X_test_std)"
      ],
      "execution_count": 0,
      "outputs": []
    },
    {
      "cell_type": "code",
      "metadata": {
        "id": "6aTKVCEph_TP",
        "colab_type": "code",
        "colab": {}
      },
      "source": [
        "mse = mean_squared_error(y_test, y_pred)"
      ],
      "execution_count": 0,
      "outputs": []
    },
    {
      "cell_type": "code",
      "metadata": {
        "id": "uwbEPORnqBXW",
        "colab_type": "code",
        "colab": {}
      },
      "source": [
        "print(mse) # one feature"
      ],
      "execution_count": 0,
      "outputs": []
    },
    {
      "cell_type": "code",
      "metadata": {
        "id": "E2iRbeudp05Q",
        "colab_type": "code",
        "colab": {}
      },
      "source": [
        "y_train_pred = model.predict(X_train_std)\n",
        "plt.scatter(X_train, y_train, color=\"black\")\n",
        "plt.plot(X_train, y_train_pred, color=\"red\", linewidth=3)"
      ],
      "execution_count": 0,
      "outputs": []
    },
    {
      "cell_type": "code",
      "metadata": {
        "id": "AFzvl5gProph",
        "colab_type": "code",
        "colab": {}
      },
      "source": [
        "plt.scatter(X_test, y_test, color=\"black\")\n",
        "plt.plot(X_test, y_pred, color=\"red\", linewidth=3)"
      ],
      "execution_count": 0,
      "outputs": []
    }
  ]
}