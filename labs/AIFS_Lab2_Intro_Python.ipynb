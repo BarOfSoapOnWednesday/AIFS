{
  "nbformat": 4,
  "nbformat_minor": 0,
  "metadata": {
    "colab": {
      "name": "AIFS_Lab2_Intro_Python.ipynb",
      "provenance": [],
      "authorship_tag": "ABX9TyN9LHR4sCcAseM+dcXdoPQ5",
      "include_colab_link": true
    },
    "kernelspec": {
      "name": "python3",
      "display_name": "Python 3"
    }
  },
  "cells": [
    {
      "cell_type": "markdown",
      "metadata": {
        "id": "view-in-github",
        "colab_type": "text"
      },
      "source": [
        "<a href=\"https://colab.research.google.com/github/surajx/AIFS/blob/master/labs/AIFS_Lab2_Intro_Python.ipynb\" target=\"_parent\"><img src=\"https://colab.research.google.com/assets/colab-badge.svg\" alt=\"Open In Colab\"/></a>"
      ]
    },
    {
      "cell_type": "markdown",
      "metadata": {
        "id": "thJGrMbpgP3B",
        "colab_type": "text"
      },
      "source": [
        "# AI From Scratch: Lab 2\n",
        "By Suraj Narayanan Sasikumar, [Hessian AI Labs](https://www.hessianailabs.com.au)"
      ]
    },
    {
      "cell_type": "markdown",
      "metadata": {
        "id": "vJfufRkM-LkA",
        "colab_type": "text"
      },
      "source": [
        "**Exercise 1**: Write a python function that take in as arguments two **vectors** (can be represented as `list` or `tuple`) and returns it's vector summation."
      ]
    },
    {
      "cell_type": "code",
      "metadata": {
        "id": "Fw8Tm4FNgFGi",
        "colab_type": "code",
        "colab": {}
      },
      "source": [
        ""
      ],
      "execution_count": 0,
      "outputs": []
    },
    {
      "cell_type": "markdown",
      "metadata": {
        "id": "oq9iVDgC-fhf",
        "colab_type": "text"
      },
      "source": [
        "**Exercise 2**: Write a python function that take in as arguments two **matrices** and returns it's **product**."
      ]
    },
    {
      "cell_type": "code",
      "metadata": {
        "id": "3XgcfgBM-4CE",
        "colab_type": "code",
        "colab": {}
      },
      "source": [
        ""
      ],
      "execution_count": 0,
      "outputs": []
    },
    {
      "cell_type": "markdown",
      "metadata": {
        "id": "2Ts1696f-6WC",
        "colab_type": "text"
      },
      "source": [
        "**Exercise 3**: Write a python function that take in as arguments a **matrix** and returns it's **transpose**."
      ]
    },
    {
      "cell_type": "code",
      "metadata": {
        "id": "CN-AOGwl-5zy",
        "colab_type": "code",
        "colab": {}
      },
      "source": [
        ""
      ],
      "execution_count": 0,
      "outputs": []
    },
    {
      "cell_type": "markdown",
      "metadata": {
        "id": "1hb0O5l9_EAR",
        "colab_type": "text"
      },
      "source": [
        "**Exercise 4**: Implement the following norm function in python\n",
        "\n",
        "\n",
        "*   $\\ell_1$-norm\n",
        "*   $\\ell^2$-norm\n",
        "*   $\\max$-norm\n",
        "\n"
      ]
    },
    {
      "cell_type": "code",
      "metadata": {
        "id": "qSt1WF_ABfRR",
        "colab_type": "code",
        "colab": {}
      },
      "source": [
        ""
      ],
      "execution_count": 0,
      "outputs": []
    },
    {
      "cell_type": "markdown",
      "metadata": {
        "id": "9kBEuRdqBefj",
        "colab_type": "text"
      },
      "source": [
        "**Exercise 5**: Write a python function that takes in as arguments a **vector** and a norm function from **Exercise 4**, and return its norm."
      ]
    },
    {
      "cell_type": "code",
      "metadata": {
        "id": "uiIBKlDx_Dyr",
        "colab_type": "code",
        "colab": {}
      },
      "source": [
        ""
      ],
      "execution_count": 0,
      "outputs": []
    },
    {
      "cell_type": "markdown",
      "metadata": {
        "id": "JbNwDt-_Bs8e",
        "colab_type": "text"
      },
      "source": [
        "**Exercise 6**: Using functions in **Exercise 4 & 5**, write a python function to evaluate the distance between two given vector, using the metric induced by the norms listed in **Exercise 4**"
      ]
    },
    {
      "cell_type": "code",
      "metadata": {
        "id": "iSjVrrrGCKr8",
        "colab_type": "code",
        "colab": {}
      },
      "source": [
        ""
      ],
      "execution_count": 0,
      "outputs": []
    }
  ]
}