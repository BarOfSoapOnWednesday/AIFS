{
  "nbformat": 4,
  "nbformat_minor": 0,
  "metadata": {
    "colab": {
      "name": "AIFS_Lab1_solutions.ipynb",
      "provenance": [],
      "collapsed_sections": [],
      "include_colab_link": true
    },
    "kernelspec": {
      "name": "python3",
      "display_name": "Python 3"
    }
  },
  "cells": [
    {
      "cell_type": "markdown",
      "metadata": {
        "id": "view-in-github",
        "colab_type": "text"
      },
      "source": [
        "<a href=\"https://colab.research.google.com/github/surajx/AIFS/blob/master/labs/solutions/AIFS_Lab1_solutions.ipynb\" target=\"_parent\"><img src=\"https://colab.research.google.com/assets/colab-badge.svg\" alt=\"Open In Colab\"/></a>"
      ]
    },
    {
      "cell_type": "markdown",
      "metadata": {
        "id": "D4Utaod5dGVW",
        "colab_type": "text"
      },
      "source": [
        "# AI From Scratch: Lab 1 Solutions\n",
        "By Suraj Narayanan Sasikumar, [Hessian AI Labs](https://www.hessianailabs.com.au)"
      ]
    },
    {
      "cell_type": "markdown",
      "metadata": {
        "id": "IWfcyjHtcuDD",
        "colab_type": "text"
      },
      "source": [
        "**Exercise 1:** A fibonacci series $f$ is defined as $f_n= f_{n-1} + f_{n-2}$, where $f_1=0$ and $f_2=1$. That is, the next term of the series is defined as the sum of the previous two terms. Print the fibonacci series till $N$. Obtain the value of $N$ from the user using the `input()` function."
      ]
    },
    {
      "cell_type": "code",
      "metadata": {
        "id": "GC0jWK1mcq75",
        "colab_type": "code",
        "outputId": "4b5fbcd5-ccf6-44ed-95a2-bf882caa4c8f",
        "colab": {
          "base_uri": "https://localhost:8080/",
          "height": 51
        }
      },
      "source": [
        "N = int(input(\"N=\"))  # Get the total number of fibonacci terms to generate\n",
        "term_n1 = 0 \n",
        "term_n2 = 1\n",
        "print(term_n1, end=' ')\n",
        "\"\"\"\n",
        "  _ means ignore, usually it is for num in range(N-1), but since we do not use\n",
        "  num inside the body of the loop there is no need to keep it around in memory.\n",
        "  So we use _ to specify to the interpretor that the loop variable is not needed.\n",
        "\"\"\"\n",
        "for _ in range(N-1):\n",
        "  print(term_n2, end=' ')\n",
        "  term_n = term_n1 + term_n2  # f_n= f_{n-1} + f_{n-2}\n",
        "  term_n1 = term_n2\n",
        "  term_n2 = term_n"
      ],
      "execution_count": 0,
      "outputs": [
        {
          "output_type": "stream",
          "text": [
            "N=10\n",
            "0 1 1 2 3 5 8 13 21 34 "
          ],
          "name": "stdout"
        }
      ]
    },
    {
      "cell_type": "markdown",
      "metadata": {
        "id": "m-ZXJ69RfZKD",
        "colab_type": "text"
      },
      "source": [
        "**Exercise 2:** Given two sets car=\\{'Honda', 'Ferrari', 'Mazda'\\} and horse_power=\\{306, 586, 240, 1000\\} . Write a program to evaluate and display the cartesian product car$\\times$horse_power "
      ]
    },
    {
      "cell_type": "code",
      "metadata": {
        "id": "sis2Mijyen9S",
        "colab_type": "code",
        "outputId": "7ad9a1f8-ab9b-43cf-8d34-161ebc08070e",
        "colab": {
          "base_uri": "https://localhost:8080/",
          "height": 34
        }
      },
      "source": [
        "cars = set(['Honda', 'Ferrari', 'Mazda'])\n",
        "horse_powers = set([306, 586, 240, 1000])\n",
        "\n",
        "car_cross_hp = set([])\n",
        "for car in cars:\n",
        "  for horse_power in horse_powers:\n",
        "    car_cross_hp.add((car,horse_power))\n",
        "print(car_cross_hp)"
      ],
      "execution_count": 0,
      "outputs": [
        {
          "output_type": "stream",
          "text": [
            "{('Ferrari', 1000), ('Honda', 306), ('Mazda', 240), ('Honda', 1000), ('Mazda', 586), ('Ferrari', 586), ('Ferrari', 240), ('Honda', 586), ('Mazda', 1000), ('Ferrari', 306), ('Honda', 240), ('Mazda', 306)}\n"
          ],
          "name": "stdout"
        }
      ]
    },
    {
      "cell_type": "markdown",
      "metadata": {
        "id": "9hMkCE_vgPQP",
        "colab_type": "text"
      },
      "source": [
        "**Exercise 3:** Deisgn and Implement a two-player tic-tac-toe game with the following specification.\n",
        "There are two players `player-x`, who marks `x` and `player-o`, who marks `o`. The player who succeeds in placing three of their marks in a horizontal, vertical, or diagonal row is the winner. When in turn, the players inputs the cell number as shows below to specify where they should place the mark.\n",
        "\n",
        "![Tic Tac Toe](https://github.com/surajx/AIFS/raw/master/images/ttt_game.png)\n",
        "\n",
        "*Hint:* lists can be two-dimensional"
      ]
    },
    {
      "cell_type": "code",
      "metadata": {
        "id": "B9_LHlvr83a1",
        "colab_type": "code",
        "outputId": "ecdf445d-be62-48d5-f11f-92bf2036c8b1",
        "colab": {
          "base_uri": "https://localhost:8080/",
          "height": 170
        }
      },
      "source": [
        "def gen_board_pos_map():\n",
        "  \"\"\" Generates a mapping from cell position to cell index in game state \n",
        "    input : None\n",
        "    output: dict\n",
        "  \"\"\"\n",
        "  board_pos_map = {}\n",
        "  pos = [0,0]\n",
        "  for i in range(1,10):\n",
        "    board_pos_map[i] = tuple(pos)\n",
        "    if pos[1]==2: \n",
        "      pos[1] = 0  # reset second index to 0\n",
        "      pos[0] += 1  # increment first index\n",
        "    else:\n",
        "      pos[1] += 1  # increment second index intil its 2\n",
        "  return board_pos_map\n",
        "\n",
        "gen_board_pos_map()"
      ],
      "execution_count": 0,
      "outputs": [
        {
          "output_type": "execute_result",
          "data": {
            "text/plain": [
              "{1: (0, 0),\n",
              " 2: (0, 1),\n",
              " 3: (0, 2),\n",
              " 4: (1, 0),\n",
              " 5: (1, 1),\n",
              " 6: (1, 2),\n",
              " 7: (2, 0),\n",
              " 8: (2, 1),\n",
              " 9: (2, 2)}"
            ]
          },
          "metadata": {
            "tags": []
          },
          "execution_count": 1
        }
      ]
    },
    {
      "cell_type": "code",
      "metadata": {
        "id": "Jp7D_yNHpKSA",
        "colab_type": "code",
        "outputId": "b30d70c4-bb09-477c-afd6-00a5449433b4",
        "colab": {
          "base_uri": "https://localhost:8080/",
          "height": 1000
        }
      },
      "source": [
        "# Stores the state of the game board at the begining of a round.\n",
        "starting_game_state = [[0, 0, 0], # 0 indicates empty cell.\n",
        "                       [0, 0, 0], \n",
        "                       [0, 0, 0]]\n",
        "\n",
        "# A mappeing between what is displayed on the board and the internal \n",
        "# representation of a players mark.\n",
        "player_dict = {\n",
        "    1: \"X\",\n",
        "    -1: \"O\"\n",
        "}\n",
        "\n",
        "# Get a mapping from TTT cell position to cell index in game state.\n",
        "board_pos_map = gen_board_pos_map()\n",
        "\n",
        "\n",
        "def check_win(game_state):\n",
        "  \"\"\" Check if a given game state is a winning state.\n",
        "    If a row, column, or diagonal sums to 3 Player X wins.\n",
        "    If a row, column, or diagonal sums to -3 Player O wins.\n",
        "    input : list\n",
        "    output: str\n",
        "  \"\"\"\n",
        "  row_sum = [sum(row) for row in game_state] # List comprehension\n",
        "  if 3 in row_sum: return \"win_x\"\n",
        "  if -3 in row_sum: return \"win_o\"\n",
        "  column_sum = [sum(column) for column in game_state]\n",
        "  if 3 in column_sum: return \"win_x\"\n",
        "  if -3 in column_sum: return \"win_o\"\n",
        "  diagonal_sum = sum(game_state[i][i] for i in range(3)) # sum is a built-in function that sums the elements of a list. \n",
        "  if diagonal_sum==3: return \"win_x\"\n",
        "  if diagonal_sum==-3: return \"win_o\"\n",
        "  off_diagonal_sum = sum(game_state[i][3-i-1] for i in range(3))\n",
        "  if off_diagonal_sum==3: return \"win_x\"\n",
        "  if off_diagonal_sum==-3: return \"win_o\"\n",
        "  return \"no_win\"\n",
        "\n",
        "\n",
        "def validate_input(current_play, game_state):\n",
        "  \"\"\" Validate if the user input is a valid entry\n",
        "    input : str, list\n",
        "    output: (bool, str) or (bool, None)\n",
        "  \"\"\"\n",
        "  try:\n",
        "    if int(current_play) not in range(1,10): # checks if the input is within 1-9\n",
        "      return False, \"Cell number out of range, please enter a valid empty cell number from the displayed board.\"\n",
        "  except ValueError: # Catch if current_play is not an interger\n",
        "      return False, \"Non-integer value detected, please enter a valid empty cell number from the displayed board.\"\n",
        "  cell = board_pos_map[int(current_play)]\n",
        "  if game_state[cell[0]][cell[1]]!=0:\n",
        "    return False, \"Already played cell, please enter a valid empty cell number from the displayed board.\"\n",
        "  return True, None # None type since no error message.\n",
        "\n",
        "\n",
        "def get_current_play(current_player, game_state):\n",
        "  \"\"\" Request the current play from player\n",
        "    input : int, list\n",
        "    output: list\n",
        "  \"\"\"\n",
        "  current_play = input(\"[Player {}] Input the cell to place mark:\\n\".format(player_dict[current_player]))\n",
        "  while True: # loop until a valid input is received from the user\n",
        "    status, err_msg = validate_input(current_play, game_state) # validate input is given according to set parameters.\n",
        "    if status:\n",
        "      break # break out of the loop if a valid input is received.\n",
        "    print(err_msg)\n",
        "    display_game_state(current_game_state)\n",
        "    current_play = input(\"[Player {}] Input the cell to place mark:\\n\".format(player_dict[current_player]))\n",
        "  return board_pos_map[int(current_play)]\n",
        "\n",
        "\n",
        "def display_game_state(game_state):\n",
        "  \"\"\" Display the game state in user consumable representation \n",
        "    input : list\n",
        "    output: None\n",
        "  \"\"\"\n",
        "  print('-------------')\n",
        "  cell_num = 1\n",
        "  for row in game_state:\n",
        "    print('|', end='')\n",
        "    for cell in row:\n",
        "      if cell==0:\n",
        "        print(' '+str(cell_num)+' |', end='')  \n",
        "      else:\n",
        "        print(' '+player_dict[cell]+' |', end='')\n",
        "      cell_num += 1\n",
        "    print('\\n-------------')\n",
        "\n",
        "\n",
        "current_game_state = starting_game_state\n",
        "current_player = 1\n",
        "for turn in range(9):\n",
        "  display_game_state(current_game_state) # Show the board\n",
        "  current_play = get_current_play(current_player, current_game_state) # Get the current play as input from user\n",
        "  current_game_state[current_play[0]][current_play[1]] = current_player # update current play in game state.\n",
        "  current_player *= -1 # Short hand for current_player = current_player * -1  \n",
        "  if turn>=4: # Even against the most dumbest player win state can be achieved only after 3 turns.\n",
        "    status = check_win(current_game_state) # Check if game state is in a winning condition.\n",
        "    if status==\"win_x\":\n",
        "      print(\"Player X is Winner\")\n",
        "      display_game_state(current_game_state)\n",
        "      break\n",
        "    if status==\"win_o\":    \n",
        "      print(\"Player O is Winner\")\n",
        "      display_game_state(current_game_state)\n",
        "      break\n",
        "if status==\"no_win\":\n",
        "  print(\"Game Drawn.\")\n",
        "  display_game_state(current_game_state)"
      ],
      "execution_count": 0,
      "outputs": [
        {
          "output_type": "stream",
          "text": [
            "-------------\n",
            "| 1 | 2 | 3 |\n",
            "-------------\n",
            "| 4 | 5 | 6 |\n",
            "-------------\n",
            "| 7 | 8 | 9 |\n",
            "-------------\n",
            "[Player X] Input the cell to place mark:\n",
            "1\n",
            "-------------\n",
            "| X | 2 | 3 |\n",
            "-------------\n",
            "| 4 | 5 | 6 |\n",
            "-------------\n",
            "| 7 | 8 | 9 |\n",
            "-------------\n",
            "[Player O] Input the cell to place mark:\n",
            "3\n",
            "-------------\n",
            "| X | 2 | O |\n",
            "-------------\n",
            "| 4 | 5 | 6 |\n",
            "-------------\n",
            "| 7 | 8 | 9 |\n",
            "-------------\n",
            "[Player X] Input the cell to place mark:\n",
            "5\n",
            "-------------\n",
            "| X | 2 | O |\n",
            "-------------\n",
            "| 4 | X | 6 |\n",
            "-------------\n",
            "| 7 | 8 | 9 |\n",
            "-------------\n",
            "[Player O] Input the cell to place mark:\n",
            "9\n",
            "-------------\n",
            "| X | 2 | O |\n",
            "-------------\n",
            "| 4 | X | 6 |\n",
            "-------------\n",
            "| 7 | 8 | O |\n",
            "-------------\n",
            "[Player X] Input the cell to place mark:\n",
            "6\n",
            "-------------\n",
            "| X | 2 | O |\n",
            "-------------\n",
            "| 4 | X | X |\n",
            "-------------\n",
            "| 7 | 8 | O |\n",
            "-------------\n",
            "[Player O] Input the cell to place mark:\n",
            "4\n",
            "-------------\n",
            "| X | 2 | O |\n",
            "-------------\n",
            "| O | X | X |\n",
            "-------------\n",
            "| 7 | 8 | O |\n",
            "-------------\n",
            "[Player X] Input the cell to place mark:\n",
            "2\n",
            "-------------\n",
            "| X | X | O |\n",
            "-------------\n",
            "| O | X | X |\n",
            "-------------\n",
            "| 7 | 8 | O |\n",
            "-------------\n",
            "[Player O] Input the cell to place mark:\n",
            "8\n",
            "-------------\n",
            "| X | X | O |\n",
            "-------------\n",
            "| O | X | X |\n",
            "-------------\n",
            "| 7 | O | O |\n",
            "-------------\n",
            "[Player X] Input the cell to place mark:\n",
            "7\n",
            "Game Drawn.\n",
            "-------------\n",
            "| X | X | O |\n",
            "-------------\n",
            "| O | X | X |\n",
            "-------------\n",
            "| X | O | O |\n",
            "-------------\n"
          ],
          "name": "stdout"
        }
      ]
    },
    {
      "cell_type": "markdown",
      "metadata": {
        "id": "_ikw8tlEgRlQ",
        "colab_type": "text"
      },
      "source": [
        "**Exercise 4:** Show by implementation that the ratio of successive terms $\\frac{f_{n+1}}{f_n}$ of the fibonacci series converges to the golden ratio: $\\phi=\\frac{1+\\sqrt{5}}{2}=1.618033988\\ldots$\n"
      ]
    },
    {
      "cell_type": "code",
      "metadata": {
        "id": "pEUOtigJgUEC",
        "colab_type": "code",
        "outputId": "7a603a48-eb7d-4fee-97d1-f83474e436c4",
        "colab": {
          "base_uri": "https://localhost:8080/",
          "height": 272
        }
      },
      "source": [
        "term_n1 = 1\n",
        "term_n2 = 1\n",
        "while True:  # The loop iterates ad infinitum unless we manually break out of it.\n",
        "  term_n = term_n1 + term_n2\n",
        "  term_n1 = term_n2\n",
        "  term_n2 = term_n\n",
        "  ratio = term_n2/term_n1\n",
        "  print(ratio)\n",
        "  if abs(ratio - 1.618033988)<0.000001:\n",
        "    break"
      ],
      "execution_count": 0,
      "outputs": [
        {
          "output_type": "stream",
          "text": [
            "2.0\n",
            "1.5\n",
            "1.6666666666666667\n",
            "1.6\n",
            "1.625\n",
            "1.6153846153846154\n",
            "1.619047619047619\n",
            "1.6176470588235294\n",
            "1.6181818181818182\n",
            "1.6179775280898876\n",
            "1.6180555555555556\n",
            "1.6180257510729614\n",
            "1.6180371352785146\n",
            "1.618032786885246\n",
            "1.618034447821682\n"
          ],
          "name": "stdout"
        }
      ]
    }
  ]
}