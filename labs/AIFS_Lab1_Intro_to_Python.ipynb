{
  "nbformat": 4,
  "nbformat_minor": 0,
  "metadata": {
    "colab": {
      "name": "AIFS_Lab1_Intro_to_Python.ipynb",
      "provenance": [],
      "include_colab_link": true
    },
    "kernelspec": {
      "name": "python3",
      "display_name": "Python 3"
    }
  },
  "cells": [
    {
      "cell_type": "markdown",
      "metadata": {
        "id": "view-in-github",
        "colab_type": "text"
      },
      "source": [
        "<a href=\"https://colab.research.google.com/github/surajx/AIFS/blob/master/labs/AIFS_Lab1_Intro_to_Python.ipynb\" target=\"_parent\"><img src=\"https://colab.research.google.com/assets/colab-badge.svg\" alt=\"Open In Colab\"/></a>"
      ]
    },
    {
      "cell_type": "markdown",
      "metadata": {
        "id": "v7U_8MUGpVFq",
        "colab_type": "text"
      },
      "source": [
        "# AI From Scratch: Lab 1\n",
        "By Suraj Narayanan Sasikumar, [Hessian AI Labs](https://www.hessianailabs.com.au)"
      ]
    },
    {
      "cell_type": "markdown",
      "metadata": {
        "id": "kXw3Jm_5l8P2",
        "colab_type": "text"
      },
      "source": [
        "# What is a programming language?\n",
        "A *programming language* is a formal language which consists of a set of instruction that can be used to make computers do work."
      ]
    },
    {
      "cell_type": "code",
      "metadata": {
        "id": "YNRmNlCGljKl",
        "colab_type": "code",
        "colab": {}
      },
      "source": [
        "# Multiply number from 1 to 50\n",
        "prod = 1 # Variable\n",
        "num = 1\n",
        "while True: # Loop\n",
        "  prod = prod * num\n",
        "  num = num + 1\n",
        "  if num > 50:\n",
        "    break\n",
        "print(prod)"
      ],
      "execution_count": 0,
      "outputs": []
    },
    {
      "cell_type": "markdown",
      "metadata": {
        "id": "UBGTSDccK7Ob",
        "colab_type": "text"
      },
      "source": [
        "# Different types of Programming Languages\n",
        "\n",
        "* *Compiled*: The program must be translated into machine understandable format before executing it. Eg: C++, C\n",
        "* *Interpretted*: The operating system loads and interpretter which runs the program line-by-line.\n",
        "\n",
        "![Block Diagram](https://github.com/surajx/AIFS/raw/master/images/aifs.png)"
      ]
    },
    {
      "cell_type": "markdown",
      "metadata": {
        "id": "iKBhlqmwQcDA",
        "colab_type": "text"
      },
      "source": [
        "*Show difference between C++ and python*"
      ]
    },
    {
      "cell_type": "markdown",
      "metadata": {
        "id": "v1clrBg7PBOw",
        "colab_type": "text"
      },
      "source": [
        "# Python 3\n",
        "\n",
        "* Python is an interpretted programming language.\n",
        "* Very easy to learn since the syntaxes are almost english-like.\n",
        "* Almost ubiquitously used in Data Science and AI. "
      ]
    },
    {
      "cell_type": "markdown",
      "metadata": {
        "id": "Vcq4MVhojmwM",
        "colab_type": "text"
      },
      "source": [
        "# Functions\n",
        "\n",
        "Functions are named, re-usable block of code, that is used to perform a single task. A function may or may-not take arguments and may or may-not return any output. It can be called as `function_name(optional_input_to_function)`. There are many built-in functions in python such as `print()`, `len()`, etc. We can also write user-defined functions, more on that in a later lecture."
      ]
    },
    {
      "cell_type": "code",
      "metadata": {
        "id": "E1k3QldrjmKT",
        "colab_type": "code",
        "outputId": "a8609cb1-2c00-4e93-a53d-4deb8285674b",
        "colab": {
          "base_uri": "https://localhost:8080/",
          "height": 51
        }
      },
      "source": [
        "print(\"Python is cool!\")\n",
        "\n",
        "def square(num):\n",
        "  return num**2\n",
        "\n",
        "print(square(3))"
      ],
      "execution_count": 0,
      "outputs": [
        {
          "output_type": "stream",
          "text": [
            "Python is cool!\n",
            "9\n"
          ],
          "name": "stdout"
        }
      ]
    },
    {
      "cell_type": "markdown",
      "metadata": {
        "id": "mH4daE3CQ6x4",
        "colab_type": "text"
      },
      "source": [
        "## Variables\n",
        "\n",
        "A variable is python object that can hold data. The information can be a number, string, boolean etc. On the hardware, it's a block of memory reserved for storing a value.\n",
        "\n",
        "## Assignment Operator (=)\n",
        "\n",
        "Assigns some information to a variable."
      ]
    },
    {
      "cell_type": "code",
      "metadata": {
        "id": "c4iC4xqvQsuk",
        "colab_type": "code",
        "colab": {}
      },
      "source": [
        "# Example Assignment statement\n",
        "two = 2\n",
        "my_name = \"Suraj\"\n",
        "single_digit_primes = [3,5,7]"
      ],
      "execution_count": 0,
      "outputs": []
    },
    {
      "cell_type": "code",
      "metadata": {
        "id": "FVSTTSRpjgVP",
        "colab_type": "code",
        "colab": {}
      },
      "source": [
        ""
      ],
      "execution_count": 0,
      "outputs": []
    },
    {
      "cell_type": "markdown",
      "metadata": {
        "id": "5MW0elsaWU01",
        "colab_type": "text"
      },
      "source": [
        "## Displaying Variable Value\n",
        "\n",
        "The `print()` function allows you to display the value stored in any variable. "
      ]
    },
    {
      "cell_type": "code",
      "metadata": {
        "id": "yTc61rS1WT_e",
        "colab_type": "code",
        "outputId": "aa794aaa-5fd6-4993-a1be-8588817d300f",
        "colab": {
          "base_uri": "https://localhost:8080/",
          "height": 68
        }
      },
      "source": [
        "print(two)\n",
        "print(my_name)\n",
        "print(single_digit_primes)"
      ],
      "execution_count": 0,
      "outputs": [
        {
          "output_type": "stream",
          "text": [
            "2\n",
            "Suraj\n",
            "[3, 5, 7]\n"
          ],
          "name": "stdout"
        }
      ]
    },
    {
      "cell_type": "markdown",
      "metadata": {
        "id": "i6bLA4wTXtRh",
        "colab_type": "text"
      },
      "source": [
        "## Variable Types\n",
        "\n",
        "Depending in the value the variable is holding the variable can take the following types\n",
        "* `int` for Integer numbers\n",
        "* `float` for numbers that has decimal places\n",
        "* `str` for strings\n",
        "* `bool` for truth values.\n",
        "\n",
        "We can check the type of a variable by using the function `type()`"
      ]
    },
    {
      "cell_type": "code",
      "metadata": {
        "id": "HvJVjBqTXs2X",
        "colab_type": "code",
        "outputId": "661ac1d4-2db5-4efc-f3da-01522c7d9961",
        "colab": {
          "base_uri": "https://localhost:8080/",
          "height": 85
        }
      },
      "source": [
        "a = 3\n",
        "print(\"Type of a:\", type(a))\n",
        "a = 54.34\n",
        "print(\"Type of a:\", type(a))\n",
        "a = \"Sunny Day\"\n",
        "print(\"Type of a:\", type(a))\n",
        "a = True\n",
        "print(\"Type of a:\", type(a))"
      ],
      "execution_count": 0,
      "outputs": [
        {
          "output_type": "stream",
          "text": [
            "Type of a: <class 'int'>\n",
            "Type of a: <class 'float'>\n",
            "Type of a: <class 'str'>\n",
            "Type of a: <class 'bool'>\n"
          ],
          "name": "stdout"
        }
      ]
    },
    {
      "cell_type": "markdown",
      "metadata": {
        "id": "8fhNflwjSi7p",
        "colab_type": "text"
      },
      "source": [
        "## Data Structures\n",
        "\n",
        "Ways of organizing multiple data that logically makes sense to be kept together. Data structures have their own data-types."
      ]
    },
    {
      "cell_type": "markdown",
      "metadata": {
        "id": "HYpnPT7ZTziR",
        "colab_type": "text"
      },
      "source": [
        "### Lists\n",
        "\n",
        "Ordered and indexed collection of data that need not be homogeneous."
      ]
    },
    {
      "cell_type": "code",
      "metadata": {
        "id": "ZwIyzcdlTy7t",
        "colab_type": "code",
        "colab": {}
      },
      "source": [
        "empty_list = []\n",
        "shopping_list = ['eggs', 'butter', 'avocado', 'ham', 'bread']\n",
        "non_homogeneous_list = ['eggs', 'avocado', 393, 'Pitt St']"
      ],
      "execution_count": 0,
      "outputs": []
    },
    {
      "cell_type": "markdown",
      "metadata": {
        "id": "_8XVFurPVSiz",
        "colab_type": "text"
      },
      "source": [
        "The values in the list are indexed so we can retrieve them by their index. In almost all programming languages index always starts with 0."
      ]
    },
    {
      "cell_type": "code",
      "metadata": {
        "id": "YY-ItaWWVjYY",
        "colab_type": "code",
        "outputId": "7249853f-d12c-460f-9a25-9a32049215b6",
        "colab": {
          "base_uri": "https://localhost:8080/",
          "height": 68
        }
      },
      "source": [
        "print(shopping_list[0])\n",
        "print(shopping_list[4])\n",
        "print(shopping_list[-2])"
      ],
      "execution_count": 0,
      "outputs": [
        {
          "output_type": "stream",
          "text": [
            "eggs\n",
            "bread\n",
            "ham\n"
          ],
          "name": "stdout"
        }
      ]
    },
    {
      "cell_type": "code",
      "metadata": {
        "id": "5midhEffZJ_o",
        "colab_type": "code",
        "outputId": "821f2b45-1a0a-4bb8-8a95-07481e4c90a2",
        "colab": {
          "base_uri": "https://localhost:8080/",
          "height": 34
        }
      },
      "source": [
        "print(\"Type of shopping_list:\", type(shopping_list))"
      ],
      "execution_count": 0,
      "outputs": [
        {
          "output_type": "stream",
          "text": [
            "<class 'list'>\n"
          ],
          "name": "stdout"
        }
      ]
    },
    {
      "cell_type": "markdown",
      "metadata": {
        "id": "bg-GIHA8bs5i",
        "colab_type": "text"
      },
      "source": [
        "To change the value of an element of the list use the assignment operator"
      ]
    },
    {
      "cell_type": "code",
      "metadata": {
        "id": "Qjvbx-gUbq_h",
        "colab_type": "code",
        "outputId": "de6e42f4-8a7c-4fdf-ad9c-7fce2bca6bc1",
        "colab": {
          "base_uri": "https://localhost:8080/",
          "height": 34
        }
      },
      "source": [
        "shopping_list[3] = 'bacon'\n",
        "print(shopping_list)"
      ],
      "execution_count": 0,
      "outputs": [
        {
          "output_type": "stream",
          "text": [
            "['eggs', 'butter', 'avocado', 'bacon', 'bread']\n"
          ],
          "name": "stdout"
        }
      ]
    },
    {
      "cell_type": "markdown",
      "metadata": {
        "id": "1TtL-Mvteb1W",
        "colab_type": "text"
      },
      "source": [
        "To know the size of a list use the `len()` function"
      ]
    },
    {
      "cell_type": "code",
      "metadata": {
        "id": "klAh6wa8ebX8",
        "colab_type": "code",
        "outputId": "d3765251-db77-4ed3-d350-c05ffe999c58",
        "colab": {
          "base_uri": "https://localhost:8080/",
          "height": 34
        }
      },
      "source": [
        "print(len(shopping_list))"
      ],
      "execution_count": 0,
      "outputs": [
        {
          "output_type": "stream",
          "text": [
            "5\n"
          ],
          "name": "stdout"
        }
      ]
    },
    {
      "cell_type": "markdown",
      "metadata": {
        "id": "l7gVTTyhUnYD",
        "colab_type": "text"
      },
      "source": [
        "### Dictionaries\n",
        "\n",
        "Data structure to store Key-Value pairs association. Order does not matter as it is not indexed."
      ]
    },
    {
      "cell_type": "code",
      "metadata": {
        "id": "JxnGJZ9bSiP8",
        "colab_type": "code",
        "colab": {}
      },
      "source": [
        "empty_dict = {}\n",
        "shopping_dict = {'eggs':10, 'butter':'200gms', 'avocado':5, 'ham':'1kg', 'bread':1 }"
      ],
      "execution_count": 0,
      "outputs": []
    },
    {
      "cell_type": "markdown",
      "metadata": {
        "id": "EYu57s_iWQu-",
        "colab_type": "text"
      },
      "source": [
        "The values in the dictionary can be accessed by providing the required key."
      ]
    },
    {
      "cell_type": "code",
      "metadata": {
        "id": "kzSEW8QNPAj2",
        "colab_type": "code",
        "outputId": "e68c8094-ddf0-4d30-fdec-8fcfd32d134b",
        "colab": {
          "base_uri": "https://localhost:8080/",
          "height": 51
        }
      },
      "source": [
        "print(\"Butter Quantity:\", shopping_dict['butter'])\n",
        "print(\"Eggs Quantity:\", shopping_dict['eggs'])"
      ],
      "execution_count": 0,
      "outputs": [
        {
          "output_type": "stream",
          "text": [
            "Butter Quantity: 200gms\n",
            "Eggs Quantity: 10\n"
          ],
          "name": "stdout"
        }
      ]
    },
    {
      "cell_type": "markdown",
      "metadata": {
        "id": "HqAyNaOqcs6b",
        "colab_type": "text"
      },
      "source": [
        "The keys once put in a dict cannot be changed. The way to change the name of the key is to add a new key-value pair and delete the old one,"
      ]
    },
    {
      "cell_type": "code",
      "metadata": {
        "id": "eHkayHZ_c_QF",
        "colab_type": "code",
        "outputId": "10bef061-f94f-4987-961d-a8b1998851fa",
        "colab": {
          "base_uri": "https://localhost:8080/",
          "height": 51
        }
      },
      "source": [
        "del(shopping_dict['ham']) # If you re-run this cell, it'll throw error since the key 'ham' does not exist after deletion.\n",
        "print(shopping_dict)\n",
        "shopping_dict['bacon']='1kg'\n",
        "print(shopping_dict)"
      ],
      "execution_count": 0,
      "outputs": [
        {
          "output_type": "stream",
          "text": [
            "{'eggs': 10, 'butter': '200gms', 'avocado': 5, 'bread': 1}\n",
            "{'eggs': 10, 'butter': '200gms', 'avocado': 5, 'bread': 1, 'bacon': '1kg'}\n"
          ],
          "name": "stdout"
        }
      ]
    },
    {
      "cell_type": "code",
      "metadata": {
        "id": "dYB1W2FxdH2m",
        "colab_type": "code",
        "outputId": "209a8ba6-9c8e-4722-8e9f-f76aa65b69c2",
        "colab": {
          "base_uri": "https://localhost:8080/",
          "height": 34
        }
      },
      "source": [
        ""
      ],
      "execution_count": 0,
      "outputs": [
        {
          "output_type": "stream",
          "text": [
            "{'eggs': 10, 'butter': '200gm', 'avocado': 5, 'bread': 1, 'bacon': '1kg'}\n"
          ],
          "name": "stdout"
        }
      ]
    },
    {
      "cell_type": "markdown",
      "metadata": {
        "id": "GGs2StIDcEMU",
        "colab_type": "text"
      },
      "source": [
        "Similar to lists, to change the value of a key in the dict, use the assignment operator."
      ]
    },
    {
      "cell_type": "code",
      "metadata": {
        "id": "F5jkKvljcMNE",
        "colab_type": "code",
        "outputId": "2515f69a-81c0-476e-df65-42dd77b6bc9b",
        "colab": {
          "base_uri": "https://localhost:8080/",
          "height": 34
        }
      },
      "source": [
        "shopping_dict['bacon']='2kg'\n",
        "print(shopping_dict)"
      ],
      "execution_count": 0,
      "outputs": [
        {
          "output_type": "stream",
          "text": [
            "{'eggs': 10, 'butter': '200gm', 'avocado': 5, 'bread': 1, 'bacon': '2kg'}\n"
          ],
          "name": "stdout"
        }
      ]
    },
    {
      "cell_type": "markdown",
      "metadata": {
        "id": "yDcfX8dFemK2",
        "colab_type": "text"
      },
      "source": [
        "To know the number of key-value pairs in a dict use the `len()` function"
      ]
    },
    {
      "cell_type": "code",
      "metadata": {
        "id": "hMAXXicqelhI",
        "colab_type": "code",
        "outputId": "80587b3d-dd65-44d0-d6d5-af7a93b6f477",
        "colab": {
          "base_uri": "https://localhost:8080/",
          "height": 34
        }
      },
      "source": [
        "len(shopping_dict)"
      ],
      "execution_count": 0,
      "outputs": [
        {
          "output_type": "execute_result",
          "data": {
            "text/plain": [
              "5"
            ]
          },
          "metadata": {
            "tags": []
          },
          "execution_count": 41
        }
      ]
    },
    {
      "cell_type": "markdown",
      "metadata": {
        "id": "nCGxlhiOaOcO",
        "colab_type": "text"
      },
      "source": [
        "### Sets\n",
        "\n"
      ]
    },
    {
      "cell_type": "code",
      "metadata": {
        "id": "MGoqq7tuHPKh",
        "colab_type": "code",
        "outputId": "85721965-68b4-499f-8b2b-485ee610e203",
        "colab": {
          "base_uri": "https://localhost:8080/",
          "height": 34
        }
      },
      "source": [
        "a = set([1,2,3,3,4])\n",
        "print(a)"
      ],
      "execution_count": 0,
      "outputs": [
        {
          "output_type": "stream",
          "text": [
            "{1, 2, 3, 4}\n"
          ],
          "name": "stdout"
        }
      ]
    },
    {
      "cell_type": "markdown",
      "metadata": {
        "id": "zB7_LgBreErz",
        "colab_type": "text"
      },
      "source": [
        "Since sets are not ordered the elements cannot be indexed and hence it cannot be accessed individually. But we can check for membership using the `in` and `not in` operators."
      ]
    },
    {
      "cell_type": "code",
      "metadata": {
        "id": "FSZmRmaneED2",
        "colab_type": "code",
        "outputId": "006b0620-ac3d-4692-a626-995570efc037",
        "colab": {
          "base_uri": "https://localhost:8080/",
          "height": 68
        }
      },
      "source": [
        "print(1 in a)\n",
        "print(5 in a)\n",
        "print(3 not in a)"
      ],
      "execution_count": 0,
      "outputs": [
        {
          "output_type": "stream",
          "text": [
            "True\n",
            "False\n",
            "False\n"
          ],
          "name": "stdout"
        }
      ]
    },
    {
      "cell_type": "markdown",
      "metadata": {
        "id": "izrZjTtYfhgu",
        "colab_type": "text"
      },
      "source": [
        "Cardinality (size) of a set can be found using the `len()` function."
      ]
    },
    {
      "cell_type": "code",
      "metadata": {
        "id": "XmEzf0cmfn24",
        "colab_type": "code",
        "outputId": "279ae42f-299d-4681-8b5f-21866de6f924",
        "colab": {
          "base_uri": "https://localhost:8080/",
          "height": 34
        }
      },
      "source": [
        "print(len(a))"
      ],
      "execution_count": 0,
      "outputs": [
        {
          "output_type": "stream",
          "text": [
            "5\n"
          ],
          "name": "stdout"
        }
      ]
    },
    {
      "cell_type": "markdown",
      "metadata": {
        "id": "Zg_ChUR1azhA",
        "colab_type": "text"
      },
      "source": [
        "### Tuples\n"
      ]
    },
    {
      "cell_type": "code",
      "metadata": {
        "id": "nWHkfUjiatdj",
        "colab_type": "code",
        "outputId": "efeb72bd-f177-4a03-ecb2-c223c94a5ce7",
        "colab": {
          "base_uri": "https://localhost:8080/",
          "height": 51
        }
      },
      "source": [
        "a = tuple([1,2,3,3,4])\n",
        "print(a)\n",
        "a = (1,2,3,3,4) \n",
        "print(a)"
      ],
      "execution_count": 0,
      "outputs": [
        {
          "output_type": "stream",
          "text": [
            "(1, 2, 3, 3, 4)\n",
            "(1, 2, 3, 3, 4)\n"
          ],
          "name": "stdout"
        }
      ]
    },
    {
      "cell_type": "markdown",
      "metadata": {
        "id": "AI-YOCOGbKP2",
        "colab_type": "text"
      },
      "source": [
        "The only difference between a tuple and a list is that once a tuple is defined it is immutable."
      ]
    },
    {
      "cell_type": "code",
      "metadata": {
        "id": "kqcFnL5ibDA_",
        "colab_type": "code",
        "colab": {}
      },
      "source": [
        "a = (1,2,3,3,4)\n",
        "b = [1,2,3,3,4]\n",
        "b[0]=2 #possible\n",
        "a[0]=2 #not-possible"
      ],
      "execution_count": 0,
      "outputs": []
    },
    {
      "cell_type": "markdown",
      "metadata": {
        "id": "B_dM9M0hgQW5",
        "colab_type": "text"
      },
      "source": [
        "## Dot Operator\n",
        "\n",
        "Methods are functions that are part of a python object. Dot operator is used to call these methods. For example, the list data structure has method called `append()` which is used to append new elements to the end of a give list."
      ]
    },
    {
      "cell_type": "code",
      "metadata": {
        "id": "pYSzNa8flYDw",
        "colab_type": "code",
        "outputId": "2f733af7-4198-484c-c8a1-13cc74784543",
        "colab": {
          "base_uri": "https://localhost:8080/",
          "height": 51
        }
      },
      "source": [
        "precious_metal_list = ['gold', 'silver']\n",
        "print(precious_metal_list)\n",
        "precious_metal_list.append('platinum') # Use the dot operator to call the append() method of the list object\n",
        "print(precious_metal_list)"
      ],
      "execution_count": 0,
      "outputs": [
        {
          "output_type": "stream",
          "text": [
            "['gold', 'silver']\n",
            "['gold', 'silver', 'platinum']\n"
          ],
          "name": "stdout"
        }
      ]
    },
    {
      "cell_type": "markdown",
      "metadata": {
        "id": "7UeeIlntmMVM",
        "colab_type": "text"
      },
      "source": [
        "## Mathematical Operators\n",
        "\n",
        "| Math      | Operator |\n",
        "| ----------- | ----------- |\n",
        "| Addition      | +       |\n",
        "| Subtration   | -        |\n",
        "| Multiplication   | *        |\n",
        "| Division   | /        |\n",
        "| Integer Division   | //        |\n",
        "| Exponential   | **        |\n",
        "| Remainder (modulo)   | %        |"
      ]
    },
    {
      "cell_type": "markdown",
      "metadata": {
        "id": "JnYzB4Yjm73r",
        "colab_type": "text"
      },
      "source": [
        "## Boolean Operators\n",
        "\n",
        "| Math      | Operator |\n",
        "| ----------- | ----------- |\n",
        "| Less than      | <       |\n",
        "| Less than or equal   | <=        |\n",
        "| Greater than   | >        |\n",
        "| Greater than or equal  | >=        |\n",
        "| Value Equality   | ==, !=        |\n",
        "| Object Equality   | is, is not        |\n",
        "| Membership   | in, not in        |\n",
        "| Logical   | and, or, not        |"
      ]
    },
    {
      "cell_type": "markdown",
      "metadata": {
        "id": "RiqytHAJrcSd",
        "colab_type": "text"
      },
      "source": [
        "##  Repetition\n",
        "\n",
        "In python we use loops to iterate the same block of code multiple times with optionally different values. The two main loop statements are: `for` and `while`\n",
        "\n",
        "### `for` loop\n",
        "\n",
        "The for loop iterates over the item of any sequence (list, dict, string, etc.)"
      ]
    },
    {
      "cell_type": "code",
      "metadata": {
        "id": "XPSQk51ksM4x",
        "colab_type": "code",
        "outputId": "06c47437-42f6-4e0b-f4a9-590e9dbb4dfd",
        "colab": {
          "base_uri": "https://localhost:8080/",
          "height": 68
        }
      },
      "source": [
        "my_list = ['a', 'b', 'c']\n",
        "for elem in my_list:\n",
        "  print(elem)"
      ],
      "execution_count": 0,
      "outputs": [
        {
          "output_type": "stream",
          "text": [
            "a\n",
            "b\n",
            "c\n"
          ],
          "name": "stdout"
        }
      ]
    },
    {
      "cell_type": "code",
      "metadata": {
        "id": "rwZOdGtft66N",
        "colab_type": "code",
        "outputId": "8051a544-490f-4b5f-b74a-bf375d08fe0e",
        "colab": {
          "base_uri": "https://localhost:8080/",
          "height": 102
        }
      },
      "source": [
        "my_string = \"hello\"\n",
        "for char in my_string:\n",
        "  print(char)"
      ],
      "execution_count": 0,
      "outputs": [
        {
          "output_type": "stream",
          "text": [
            "h\n",
            "e\n",
            "l\n",
            "l\n",
            "o\n"
          ],
          "name": "stdout"
        }
      ]
    },
    {
      "cell_type": "markdown",
      "metadata": {
        "id": "1VtE9IIEt_rM",
        "colab_type": "text"
      },
      "source": [
        "`range([start], stop)` is a built-in function that generates a list from start (optional, 0 by default) to stop-1."
      ]
    },
    {
      "cell_type": "code",
      "metadata": {
        "id": "k07T6qK4t8d5",
        "colab_type": "code",
        "outputId": "bef8c3c2-6aa9-4334-e282-6ec46576a249",
        "colab": {
          "base_uri": "https://localhost:8080/",
          "height": 102
        }
      },
      "source": [
        "for num in range(5):\n",
        "  print(num)"
      ],
      "execution_count": 0,
      "outputs": [
        {
          "output_type": "stream",
          "text": [
            "0\n",
            "1\n",
            "2\n",
            "3\n",
            "4\n"
          ],
          "name": "stdout"
        }
      ]
    },
    {
      "cell_type": "code",
      "metadata": {
        "id": "0aZ0QMjXutsu",
        "colab_type": "code",
        "outputId": "3ec95e64-fa51-45b1-dfa3-b33d0ef0980a",
        "colab": {
          "base_uri": "https://localhost:8080/",
          "height": 85
        }
      },
      "source": [
        "for num in range(3,7):\n",
        "  print(num)"
      ],
      "execution_count": 0,
      "outputs": [
        {
          "output_type": "stream",
          "text": [
            "3\n",
            "4\n",
            "5\n",
            "6\n"
          ],
          "name": "stdout"
        }
      ]
    },
    {
      "cell_type": "markdown",
      "metadata": {
        "id": "u5GUnh7NvHwI",
        "colab_type": "text"
      },
      "source": [
        "### `while` loop\n",
        "\n",
        "The body of the `while` loop get executed until the condition associated with the while is falsified."
      ]
    },
    {
      "cell_type": "code",
      "metadata": {
        "id": "p-AZvkVQvHbW",
        "colab_type": "code",
        "outputId": "1bef7c95-b346-4c86-eed4-7b1aff500bd5",
        "colab": {
          "base_uri": "https://localhost:8080/",
          "height": 34
        }
      },
      "source": [
        "total = 0\n",
        "num = 0\n",
        "while num < 10: # the while conition\n",
        "  total = total + num\n",
        "  num = num + 1\n",
        "print(total)"
      ],
      "execution_count": 0,
      "outputs": [
        {
          "output_type": "stream",
          "text": [
            "45\n"
          ],
          "name": "stdout"
        }
      ]
    },
    {
      "cell_type": "markdown",
      "metadata": {
        "id": "8b2VONdlv5nd",
        "colab_type": "text"
      },
      "source": [
        "### Infinite loop\n",
        "\n",
        "While writing a loop we need to make sure that the execution moves towards a state where the condition of the while can be falsified (or a `break` control flow is executed). Otherwise the while loop can execute the block ad infinitum."
      ]
    },
    {
      "cell_type": "code",
      "metadata": {
        "id": "eryg5M5pwq4M",
        "colab_type": "code",
        "colab": {}
      },
      "source": [
        "total = 0\n",
        "num = 0\n",
        "while num < 10: \n",
        "  total = total + num\n",
        "  num = num + 1\n",
        "  # num = num - 1 # Infinite loop\n",
        "print(total)"
      ],
      "execution_count": 0,
      "outputs": []
    },
    {
      "cell_type": "markdown",
      "metadata": {
        "id": "k28cOZIJp-6s",
        "colab_type": "text"
      },
      "source": [
        "## Control Flow\n",
        "\n",
        "Controls flow statements allow you manipulate the flow of execution of the program during runtime. Following are the control flow statements in python:\n",
        "\n",
        "* `if <condition>:` - enters a block of code only if condition is `True`\n",
        "* `if <condition>:` ... `else:` - enters the else block if condition is `False`\n",
        "* `if <condition>:` ... `elif <condition>: ... - `elif allows you to check for another condition if the first if is `False`. The `elif` block can be added as many as required.\n",
        "* `break` - breaks out of a `for` or `while` loop\n",
        "* `continue` - resume the next iteration of the loop without executing the code after the `continue` statement\n"
      ]
    },
    {
      "cell_type": "code",
      "metadata": {
        "id": "JST0C3zJq_pv",
        "colab_type": "code",
        "outputId": "47960c67-3532-4f3e-d9bc-7e56b45e355d",
        "colab": {
          "base_uri": "https://localhost:8080/",
          "height": 34
        }
      },
      "source": [
        "a = 9\n",
        "if a%2 == 0: # checking if a is even\n",
        "  print(a, 'is even.')\n",
        "else:\n",
        "  print(a, 'is odd.')"
      ],
      "execution_count": 0,
      "outputs": [
        {
          "output_type": "stream",
          "text": [
            "9 is odd.\n"
          ],
          "name": "stdout"
        }
      ]
    },
    {
      "cell_type": "code",
      "metadata": {
        "id": "ZfJZqxxQzJEt",
        "colab_type": "code",
        "outputId": "2d9e6b55-ac53-41cd-8900-b8fb7b6313b2",
        "colab": {
          "base_uri": "https://localhost:8080/",
          "height": 34
        }
      },
      "source": [
        "a = 17\n",
        "if a%2 == 0:\n",
        "  print(a, 'is even.')\n",
        "elif a%3 == 0:\n",
        "  print(a, 'is odd and a multiple of three.')\n",
        "else:\n",
        "  print(a, 'is odd and not a multiple of three.')"
      ],
      "execution_count": 0,
      "outputs": [
        {
          "output_type": "stream",
          "text": [
            "17 is odd and not a multiple of three.\n"
          ],
          "name": "stdout"
        }
      ]
    },
    {
      "cell_type": "code",
      "metadata": {
        "id": "z2xODBBSzqrs",
        "colab_type": "code",
        "outputId": "2498304c-e41e-47c7-8f31-74d049c2a0d9",
        "colab": {
          "base_uri": "https://localhost:8080/",
          "height": 34
        }
      },
      "source": [
        "# Multiply number from 1 to 50\n",
        "prod = 1 # Variable\n",
        "num = 1\n",
        "while True: # Loop\n",
        "  prod = prod * num\n",
        "  num = num + 1\n",
        "  if num > 50:\n",
        "    break\n",
        "print(prod)"
      ],
      "execution_count": 0,
      "outputs": [
        {
          "output_type": "stream",
          "text": [
            "30414093201713378043612608166064768844377641568960512000000000000\n"
          ],
          "name": "stdout"
        }
      ]
    },
    {
      "cell_type": "code",
      "metadata": {
        "id": "Q_xgNwUm1PZS",
        "colab_type": "code",
        "outputId": "90f70583-2538-45a0-d6c3-60fdc336eb82",
        "colab": {
          "base_uri": "https://localhost:8080/",
          "height": 102
        }
      },
      "source": [
        "# Print even numbers from 1 to 10\n",
        "for num in range(1, 11):\n",
        "  if num%2!=0:\n",
        "    continue\n",
        "  print(num)"
      ],
      "execution_count": 0,
      "outputs": [
        {
          "output_type": "stream",
          "text": [
            "2\n",
            "4\n",
            "6\n",
            "8\n",
            "10\n"
          ],
          "name": "stdout"
        }
      ]
    },
    {
      "cell_type": "code",
      "metadata": {
        "id": "cx_dHuDI2Evu",
        "colab_type": "code",
        "outputId": "0e93d35f-b4c0-4cdd-8323-8b6ec1b62fe0",
        "colab": {
          "base_uri": "https://localhost:8080/",
          "height": 34
        }
      },
      "source": [
        "# remove all vowels from string\n",
        "string = \"Hello world\"\n",
        "no_vowel_str = \"\"\n",
        "for char in string:\n",
        "  if char in ['a', 'e', 'i', 'o', 'u']:\n",
        "    continue\n",
        "  no_vowel_str = no_vowel_str + char\n",
        "print(no_vowel_str)"
      ],
      "execution_count": 0,
      "outputs": [
        {
          "output_type": "stream",
          "text": [
            "Hll wrld\n"
          ],
          "name": "stdout"
        }
      ]
    },
    {
      "cell_type": "markdown",
      "metadata": {
        "id": "bEMBNiGKo0AP",
        "colab_type": "text"
      },
      "source": [
        "## Read the Documentation\n",
        "\n",
        "The python documentation contains all the methods and attributes of the various objects we went through. Being able to parse and understand the python documention is an essential part of learning to code. To do the exercises below you'll have to refer to the documentation.\n",
        "\n",
        "https://docs.python.org/3.6/\n",
        "\n",
        "The best way to access the docs for a specific python object is to just google it along with \"python doc\" string. Eg: \"list python doc\" for documentation of the `list` data structure."
      ]
    },
    {
      "cell_type": "markdown",
      "metadata": {
        "id": "XEcXwUCpou2w",
        "colab_type": "text"
      },
      "source": [
        "# Excercises"
      ]
    },
    {
      "cell_type": "markdown",
      "metadata": {
        "id": "FP_urpqA3tkR",
        "colab_type": "text"
      },
      "source": [
        "**Exercise 1:** A fibonacci series $f$ is defined as $f_n= f_{n-1} + f_{n-2}$, where $f_1=0$ and $f_2=1$. That is, the next term of the series is defined as the sum of the previous two terms. Print the fibonacci series till $N$. Obtain the value of $N$ from the user using the `input()` function."
      ]
    },
    {
      "cell_type": "code",
      "metadata": {
        "id": "aihHlj5b3s8b",
        "colab_type": "code",
        "colab": {}
      },
      "source": [
        ""
      ],
      "execution_count": 0,
      "outputs": []
    },
    {
      "cell_type": "markdown",
      "metadata": {
        "id": "04Bddn5v4MEG",
        "colab_type": "text"
      },
      "source": [
        "**Exercise 2:** Given two sets car=\\{'Honda', 'Ferrari', 'Mazda'\\} and horse_power=\\{306, 586, 240, 1000\\} . Write a program to evaluate and display the cartesian product car$\\times$horse_power "
      ]
    },
    {
      "cell_type": "code",
      "metadata": {
        "id": "z5Sc7ucD4Lh0",
        "colab_type": "code",
        "colab": {}
      },
      "source": [
        ""
      ],
      "execution_count": 0,
      "outputs": []
    },
    {
      "cell_type": "markdown",
      "metadata": {
        "id": "6H9sMHUL-eso",
        "colab_type": "text"
      },
      "source": [
        "**Exercise 3:** Deisgn and Implement a two-player tic-tac-toe game with the following specification.\n",
        "There are two players `player-x`, who marks `x` and `player-o`, who marks `o`. The player who succeeds in placing three of their marks in a horizontal, vertical, or diagonal row is the winner. When in turn, the players inputs the cell number as shows below to specify where they should place the mark.\n",
        "\n",
        "![Tic Tac Toe](https://github.com/surajx/AIFS/raw/master/images/ttt_game.png)\n",
        "\n",
        "*Hint:* lists can be two-dimensional"
      ]
    },
    {
      "cell_type": "code",
      "metadata": {
        "id": "9nCmwwdWmkaS",
        "colab_type": "code",
        "colab": {}
      },
      "source": [
        ""
      ],
      "execution_count": 0,
      "outputs": []
    },
    {
      "cell_type": "markdown",
      "metadata": {
        "id": "pGr73QGUbadf",
        "colab_type": "text"
      },
      "source": [
        "**Exercise 4:** Show by implementation that the ratio of successive terms $\\frac{f_{n+1}}{f_n}$ of the fibonacci series converges to the golden ratio: $\\phi=\\frac{1+\\sqrt{5}}{2}=1.618033988\\ldots$\n"
      ]
    },
    {
      "cell_type": "code",
      "metadata": {
        "id": "0ppm_uJ1cmJn",
        "colab_type": "code",
        "colab": {}
      },
      "source": [
        ""
      ],
      "execution_count": 0,
      "outputs": []
    }
  ]
}