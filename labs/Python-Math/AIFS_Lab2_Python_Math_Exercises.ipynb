{
  "nbformat": 4,
  "nbformat_minor": 0,
  "metadata": {
    "colab": {
      "name": "AIFS_Lab2_Intro_Python.ipynb",
      "provenance": [],
      "include_colab_link": true
    },
    "kernelspec": {
      "name": "python3",
      "display_name": "Python 3"
    }
  },
  "cells": [
    {
      "cell_type": "markdown",
      "metadata": {
        "id": "view-in-github",
        "colab_type": "text"
      },
      "source": [
        "<a href=\"https://colab.research.google.com/github/surajx/AIFS/blob/master/labs/AIFS_Lab2_Intro_Python.ipynb\" target=\"_parent\"><img src=\"https://colab.research.google.com/assets/colab-badge.svg\" alt=\"Open In Colab\"/></a>"
      ]
    },
    {
      "cell_type": "markdown",
      "metadata": {
        "id": "thJGrMbpgP3B",
        "colab_type": "text"
      },
      "source": [
        "# AI From Scratch: Lab 2\n",
        "By Suraj Narayanan Sasikumar, [Hessian AI Labs](https://www.hessianailabs.com.au)"
      ]
    },
    {
      "cell_type": "markdown",
      "metadata": {
        "id": "EvG1PBIDh5NR",
        "colab_type": "text"
      },
      "source": [
        "**Exercise 0**: Obtain the dimension of the **vector space** from the user as input, and set it as a global variable to be used as the dimension of **vectors** in the following exercises."
      ]
    },
    {
      "cell_type": "code",
      "metadata": {
        "id": "hnJgx977h5pX",
        "colab_type": "code",
        "colab": {}
      },
      "source": [
        ""
      ],
      "execution_count": 0,
      "outputs": []
    },
    {
      "cell_type": "markdown",
      "metadata": {
        "id": "vJfufRkM-LkA",
        "colab_type": "text"
      },
      "source": [
        "**Exercise 1**: Write a python function that take in as arguments two **vectors** (can be represented as `list` or `tuple`) and returns it's vector summation."
      ]
    },
    {
      "cell_type": "code",
      "metadata": {
        "id": "Fw8Tm4FNgFGi",
        "colab_type": "code",
        "colab": {}
      },
      "source": [
        ""
      ],
      "execution_count": 0,
      "outputs": []
    },
    {
      "cell_type": "markdown",
      "metadata": {
        "id": "v8J5i5PrikS_",
        "colab_type": "text"
      },
      "source": [
        "**Exercise 2**: Write a python function that takes in as arguments a vector and a scalar, and returns the scales vector."
      ]
    },
    {
      "cell_type": "code",
      "metadata": {
        "id": "lsSl1qjzidxo",
        "colab_type": "code",
        "colab": {}
      },
      "source": [
        ""
      ],
      "execution_count": 0,
      "outputs": []
    },
    {
      "cell_type": "markdown",
      "metadata": {
        "id": "oq9iVDgC-fhf",
        "colab_type": "text"
      },
      "source": [
        "**Exercise 3**: Write a python function that take in as arguments two **matrices** and returns it's **product**."
      ]
    },
    {
      "cell_type": "code",
      "metadata": {
        "id": "3XgcfgBM-4CE",
        "colab_type": "code",
        "colab": {}
      },
      "source": [
        ""
      ],
      "execution_count": 0,
      "outputs": []
    },
    {
      "cell_type": "markdown",
      "metadata": {
        "id": "2Ts1696f-6WC",
        "colab_type": "text"
      },
      "source": [
        "**Exercise 4**: Write a python function that take in as arguments a **matrix** and returns it's **transpose**."
      ]
    },
    {
      "cell_type": "code",
      "metadata": {
        "id": "CN-AOGwl-5zy",
        "colab_type": "code",
        "colab": {}
      },
      "source": [
        ""
      ],
      "execution_count": 0,
      "outputs": []
    },
    {
      "cell_type": "markdown",
      "metadata": {
        "id": "1hb0O5l9_EAR",
        "colab_type": "text"
      },
      "source": [
        "**Exercise 5**: Implement the following norm function in python\n",
        "\n",
        "\n",
        "*   $\\ell_1$-norm\n",
        "*   $\\ell^2$-norm\n",
        "*   $\\max$-norm\n",
        "\n"
      ]
    },
    {
      "cell_type": "code",
      "metadata": {
        "id": "qSt1WF_ABfRR",
        "colab_type": "code",
        "colab": {}
      },
      "source": [
        ""
      ],
      "execution_count": 0,
      "outputs": []
    },
    {
      "cell_type": "markdown",
      "metadata": {
        "id": "9kBEuRdqBefj",
        "colab_type": "text"
      },
      "source": [
        "**Exercise 6**: Write a python function that takes in as arguments a **vector** and a norm function from **Exercise 5**, and return its norm."
      ]
    },
    {
      "cell_type": "code",
      "metadata": {
        "id": "uiIBKlDx_Dyr",
        "colab_type": "code",
        "colab": {}
      },
      "source": [
        ""
      ],
      "execution_count": 0,
      "outputs": []
    },
    {
      "cell_type": "markdown",
      "metadata": {
        "id": "JbNwDt-_Bs8e",
        "colab_type": "text"
      },
      "source": [
        "**Exercise 7**: Using functions in **Exercise 5 & 6**, write a python function to evaluate the distance between two given vector, using the metric induced by the norms listed in **Exercise 5**"
      ]
    },
    {
      "cell_type": "code",
      "metadata": {
        "id": "iSjVrrrGCKr8",
        "colab_type": "code",
        "colab": {}
      },
      "source": [
        ""
      ],
      "execution_count": 0,
      "outputs": []
    },
    {
      "cell_type": "markdown",
      "metadata": {
        "id": "eDbqPJosf8My",
        "colab_type": "text"
      },
      "source": [
        "**Exercise 8**: Write a python function that implements the **dot product**."
      ]
    },
    {
      "cell_type": "code",
      "metadata": {
        "id": "B2mjyIu_f7ro",
        "colab_type": "code",
        "colab": {}
      },
      "source": [
        ""
      ],
      "execution_count": 0,
      "outputs": []
    },
    {
      "cell_type": "markdown",
      "metadata": {
        "id": "KN2SpRwSgTZB",
        "colab_type": "text"
      },
      "source": [
        "**Exercise 9**: Using the **dot product** function from **Exercise 8** write python functions for the following\n",
        "\n",
        "* **Length** of a given **vector**\n",
        "* **Angle** between two given **vectors**\n",
        "* **Distance** between two given **vectors**"
      ]
    },
    {
      "cell_type": "code",
      "metadata": {
        "id": "Ra-NFBB-h3uX",
        "colab_type": "code",
        "colab": {}
      },
      "source": [
        ""
      ],
      "execution_count": 0,
      "outputs": []
    }
  ]
}
