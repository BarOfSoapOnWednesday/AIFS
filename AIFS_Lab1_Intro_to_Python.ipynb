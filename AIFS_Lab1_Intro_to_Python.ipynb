{
  "nbformat": 4,
  "nbformat_minor": 0,
  "metadata": {
    "colab": {
      "name": "AIFS_Lab1_Intro_to_Python.ipynb",
      "provenance": [],
      "toc_visible": true,
      "authorship_tag": "ABX9TyP1B5pC6jV3EqNsimdVJsAz",
      "include_colab_link": true
    },
    "kernelspec": {
      "name": "python3",
      "display_name": "Python 3"
    }
  },
  "cells": [
    {
      "cell_type": "markdown",
      "metadata": {
        "id": "view-in-github",
        "colab_type": "text"
      },
      "source": [
        "<a href=\"https://colab.research.google.com/github/surajx/AIFS/blob/master/AIFS_Lab1_Intro_to_Python.ipynb\" target=\"_parent\"><img src=\"https://colab.research.google.com/assets/colab-badge.svg\" alt=\"Open In Colab\"/></a>"
      ]
    },
    {
      "cell_type": "markdown",
      "metadata": {
        "id": "v7U_8MUGpVFq",
        "colab_type": "text"
      },
      "source": [
        "# AI From Scratch: Lab 1\n",
        "By Suraj Narayanan Sasikumar, [Hessian AI Labs](https://www.hessianailabs.com.au)"
      ]
    },
    {
      "cell_type": "markdown",
      "metadata": {
        "id": "kXw3Jm_5l8P2",
        "colab_type": "text"
      },
      "source": [
        "# What is a programming language?\n",
        "A *programming language* is a formal language which consists of a set of instruction that can be used to make computers do work."
      ]
    },
    {
      "cell_type": "code",
      "metadata": {
        "id": "YNRmNlCGljKl",
        "colab_type": "code",
        "colab": {
          "base_uri": "https://localhost:8080/",
          "height": 34
        },
        "outputId": "ce0c14ff-8627-4c2b-991e-4ec68b6b275b"
      },
      "source": [
        "# Multiply number from 1 to 50\n",
        "prod = 1 # Variable\n",
        "num = 1\n",
        "while True: # Loop\n",
        "  prod = prod * num\n",
        "  num = num + 1\n",
        "  if num > 50:\n",
        "    break\n",
        "print(prod)"
      ],
      "execution_count": 57,
      "outputs": [
        {
          "output_type": "stream",
          "text": [
            "30414093201713378043612608166064768844377641568960512000000000000\n"
          ],
          "name": "stdout"
        }
      ]
    },
    {
      "cell_type": "markdown",
      "metadata": {
        "id": "UBGTSDccK7Ob",
        "colab_type": "text"
      },
      "source": [
        "# Different types of Programming Languages\n",
        "\n",
        "* *Compiled*: The program must be translated into machine understandable format before executing it. Eg: C++, C\n",
        "* *Interpretted*: The operating system loads and interpretter which runs the program line-by-line.\n",
        "\n",
        "![Block Diagram](https://github.com/surajx/AIFS/raw/master/images/aifs.png)"
      ]
    },
    {
      "cell_type": "markdown",
      "metadata": {
        "id": "iKBhlqmwQcDA",
        "colab_type": "text"
      },
      "source": [
        "*Show difference between C++ and python*"
      ]
    },
    {
      "cell_type": "markdown",
      "metadata": {
        "id": "v1clrBg7PBOw",
        "colab_type": "text"
      },
      "source": [
        "# Python 3\n",
        "\n",
        "* Python is an interpretted programming language.\n",
        "* Very easy to learn since the syntaxes are almost english-like.\n",
        "* Almost ubiquitously used in Data Science and AI. "
      ]
    },
    {
      "cell_type": "markdown",
      "metadata": {
        "id": "O_7h98AmrH8f",
        "colab_type": "text"
      },
      "source": [
        "# Comments in Python\n",
        "\n",
        "Comment line are the most important and over-looked aspect of python. It provides an avenue for the programmer to futher explain her reasoning for the code.\n",
        "\n",
        "There are two types of comments\n",
        "\n",
        "* *Single-line*: Any text after the character #,  till the end of the line is considered as a comment, and the python interpreter ignores it. Eg:\n",
        "  * `print(\"hello\") # This line prints Hello`\n",
        "  * `# This line is completely a comment, I can write anything here`\n",
        "* *Multi-line comment*: Any text within the triple-quotation block, `\"\"\" \"\"\"`, is considered as a comment, and is ignored by the python interpreter. When such a comment is writted as the first line(s) of a function/class, it is called a doc-string, which represents the documentation for the function/class."
      ]
    },
    {
      "cell_type": "code",
      "metadata": {
        "id": "oXrJPVYCrGkJ",
        "colab_type": "code",
        "outputId": "2dd99116-98ce-49af-91f4-0c653fac9487",
        "colab": {
          "base_uri": "https://localhost:8080/",
          "height": 34
        }
      },
      "source": [
        "print(\"hello\") # This line prints Hello\n",
        "# This line is completely a comment, I can write anything here\n",
        "\"\"\"\n",
        "  This is ignored\n",
        "  more comment\n",
        "  more and more comment\n",
        "\"\"\"\n",
        "def cube(num):\n",
        "  \"\"\"\n",
        "    This comment block is the doc-string for the function cube\n",
        "    This function returns the cube of a number\n",
        "    input - num: int | float\n",
        "    output- int | float\n",
        "  \"\"\"\n",
        "  return num**3\n"
      ],
      "execution_count": 58,
      "outputs": [
        {
          "output_type": "stream",
          "text": [
            "hello\n"
          ],
          "name": "stdout"
        }
      ]
    },
    {
      "cell_type": "markdown",
      "metadata": {
        "id": "mH4daE3CQ6x4",
        "colab_type": "text"
      },
      "source": [
        "# Variables\n",
        "\n",
        "A variable is python object that can hold data. The information can be a number, string, boolean etc. On the hardware, it's a block of memory reserved for storing a value.\n",
        "\n",
        "## Assignment Operator (=)\n",
        "\n",
        "Assigns some information to a variable."
      ]
    },
    {
      "cell_type": "code",
      "metadata": {
        "id": "c4iC4xqvQsuk",
        "colab_type": "code",
        "colab": {}
      },
      "source": [
        "# Example Assignment statement\n",
        "two = 2\n",
        "my_name = \"Suraj\"\n",
        "single_digit_primes = [3,5,7]"
      ],
      "execution_count": 0,
      "outputs": []
    },
    {
      "cell_type": "markdown",
      "metadata": {
        "id": "5MW0elsaWU01",
        "colab_type": "text"
      },
      "source": [
        "### Displaying Variable Value\n",
        "\n",
        "The `print()` function allows you to display the value stored in any variable. "
      ]
    },
    {
      "cell_type": "code",
      "metadata": {
        "id": "yTc61rS1WT_e",
        "colab_type": "code",
        "outputId": "41656a8f-b620-4957-cad4-ebb1285eb1b0",
        "colab": {
          "base_uri": "https://localhost:8080/",
          "height": 68
        }
      },
      "source": [
        "print(two)\n",
        "print(my_name)\n",
        "print(single_digit_primes)"
      ],
      "execution_count": 60,
      "outputs": [
        {
          "output_type": "stream",
          "text": [
            "2\n",
            "Suraj\n",
            "[3, 5, 7]\n"
          ],
          "name": "stdout"
        }
      ]
    },
    {
      "cell_type": "markdown",
      "metadata": {
        "id": "i6bLA4wTXtRh",
        "colab_type": "text"
      },
      "source": [
        "### Variable Types\n",
        "\n",
        "Depending in the value the variable is holding the variable can take the following types\n",
        "* `int` for Integer numbers\n",
        "* `float` for numbers that has decimal places\n",
        "* `str` for strings\n",
        "* `bool` for truth values.\n",
        "* `NoneType` for empty object.\n",
        "\n",
        "We can check the type of a variable by using the function `type()`"
      ]
    },
    {
      "cell_type": "code",
      "metadata": {
        "id": "HvJVjBqTXs2X",
        "colab_type": "code",
        "outputId": "9deace9a-af38-4671-fdd1-d35292376a5b",
        "colab": {
          "base_uri": "https://localhost:8080/",
          "height": 102
        }
      },
      "source": [
        "a = None\n",
        "print(\"Type of a:\", type(a))\n",
        "a = 3\n",
        "print(\"Type of a:\", type(a))\n",
        "a = 54.34\n",
        "print(\"Type of a:\", type(a))\n",
        "a = \"Sunny Day\"\n",
        "print(\"Type of a:\", type(a))\n",
        "a = True\n",
        "print(\"Type of a:\", type(a))"
      ],
      "execution_count": 61,
      "outputs": [
        {
          "output_type": "stream",
          "text": [
            "Type of a: <class 'NoneType'>\n",
            "Type of a: <class 'int'>\n",
            "Type of a: <class 'float'>\n",
            "Type of a: <class 'str'>\n",
            "Type of a: <class 'bool'>\n"
          ],
          "name": "stdout"
        }
      ]
    },
    {
      "cell_type": "markdown",
      "metadata": {
        "id": "Vcq4MVhojmwM",
        "colab_type": "text"
      },
      "source": [
        "# Functions\n",
        "\n",
        "Functions are named, re-usable block of code, that is used to perform a single task. A function may or may-not take arguments, and may or may-not return any output. It can be called as `function_name(optional_input_to_function)`. There are many built-in functions in python such as `print()`, `len()`, etc. We can also write user-defined functions, more on that in a later lecture."
      ]
    },
    {
      "cell_type": "code",
      "metadata": {
        "id": "E1k3QldrjmKT",
        "colab_type": "code",
        "outputId": "46fa675e-4632-4dbc-984a-f7dd0cf3c75a",
        "colab": {
          "base_uri": "https://localhost:8080/",
          "height": 51
        }
      },
      "source": [
        "# print is a built-in function \n",
        "# print is the name of the function, and \"Python is cool!\" the argument to the funciton\n",
        "print(\"Python is cool!\") \n",
        "\n",
        "# Square is a user-defined function\n",
        "# Name of the function is square, and arguments to the function is num\n",
        "def square(num):\n",
        "  \"\"\"\n",
        "    Returns the square of a number\n",
        "    Input - num: int | float\n",
        "    Output- int | float\n",
        "  \"\"\"\n",
        "  return num**2 # return sends back the output of the function, if there is not return statement None is retured.\n",
        "\n",
        "print(square(3))"
      ],
      "execution_count": 62,
      "outputs": [
        {
          "output_type": "stream",
          "text": [
            "Python is cool!\n",
            "9\n"
          ],
          "name": "stdout"
        }
      ]
    },
    {
      "cell_type": "markdown",
      "metadata": {
        "id": "sRJjhSWmql41",
        "colab_type": "text"
      },
      "source": [
        "Functions are first-class variable in Python. Which means that it can be treated as a variable and passed into other functions as arguments.\n",
        "\n",
        "Function can also be defined within other functions to be used as local funciton-objects."
      ]
    },
    {
      "cell_type": "code",
      "metadata": {
        "id": "YOz_hHjGqk0V",
        "colab_type": "code",
        "outputId": "263b909b-d659-4c2b-f582-25c947afbdb2",
        "colab": {
          "base_uri": "https://localhost:8080/",
          "height": 51
        }
      },
      "source": [
        "def cube(num):\n",
        "  \"\"\" Returns cube of a number \"\"\"\n",
        "  def square(num):\n",
        "    \"\"\" Returns square of a number \"\"\"\n",
        "    return num ** 2\n",
        "  return square(num) * num\n",
        "\n",
        "print(cube(3))\n",
        "\n",
        "def new_cube(squarer, num):\n",
        "  return squarer(num) * num\n",
        "\n",
        "def square(num):\n",
        "  return num ** 2\n",
        "\n",
        "print(new_cube(square, 3))"
      ],
      "execution_count": 63,
      "outputs": [
        {
          "output_type": "stream",
          "text": [
            "27\n",
            "27\n"
          ],
          "name": "stdout"
        }
      ]
    },
    {
      "cell_type": "markdown",
      "metadata": {
        "id": "xX2Y2zBJqe3g",
        "colab_type": "text"
      },
      "source": [
        "# Variable Scope\n",
        "\n",
        "Scope refers to the region of the code where an object is accessible. There are two types of scopes in python. The `global` and `local` scope. Where access to a variable is requested, python first checks the local scope if the variable is present. If not, it then checks the global scope for the variable.\n",
        "\n",
        "A Local scope is either a function-body or a class-body (next lecture)"
      ]
    },
    {
      "cell_type": "code",
      "metadata": {
        "id": "VfdP-MXFqdYx",
        "colab_type": "code",
        "outputId": "5c7a6272-5709-48e4-8e42-1d6bd117581c",
        "colab": {
          "base_uri": "https://localhost:8080/",
          "height": 51
        }
      },
      "source": [
        "# To-level of indentation is always global scope.\n",
        "i_am_a_global_variable = \"hello\"\n",
        "def print_hello_world():\n",
        "  # Function scope is local\n",
        "  i_am_a_local_variable = \"World!\"\n",
        "  print(i_am_a_global_variable)\n",
        "  print(i_am_a_local_variable)\n",
        "print_hello_world()"
      ],
      "execution_count": 64,
      "outputs": [
        {
          "output_type": "stream",
          "text": [
            "hello\n",
            "World!\n"
          ],
          "name": "stdout"
        }
      ]
    },
    {
      "cell_type": "markdown",
      "metadata": {
        "id": "0NxY_GJ_xDt8",
        "colab_type": "text"
      },
      "source": [
        "Global variable can be accessed in local scope, but cannot be modified."
      ]
    },
    {
      "cell_type": "code",
      "metadata": {
        "id": "YdNlmsjZxERd",
        "colab_type": "code",
        "colab": {
          "base_uri": "https://localhost:8080/",
          "height": 51
        },
        "outputId": "263d0e9a-765e-4363-d6c1-f08362f3fc77"
      },
      "source": [
        "# To-level of indentation is always global scope.\n",
        "i_am_a_global_variable = \"hello\"\n",
        "def print_hello_world():\n",
        "  # Function scope is local\n",
        "  i_am_a_local_variable = \"World!\"\n",
        "  # i_am_a_global_variable = i_am_a_global_variable + '!'\n",
        "  print(i_am_a_global_variable)\n",
        "  print(i_am_a_local_variable)\n",
        "print_hello_world()"
      ],
      "execution_count": 65,
      "outputs": [
        {
          "output_type": "stream",
          "text": [
            "hello\n",
            "World!\n"
          ],
          "name": "stdout"
        }
      ]
    },
    {
      "cell_type": "markdown",
      "metadata": {
        "id": "P9LnPw9hvsIx",
        "colab_type": "text"
      },
      "source": [
        "There can be local and global variables of the same name. Under the hood, they store their values in two different memory locations."
      ]
    },
    {
      "cell_type": "code",
      "metadata": {
        "id": "ZRtPyi8vvrKQ",
        "colab_type": "code",
        "outputId": "55ea00f2-24b6-4e40-dc14-36f2feb1665b",
        "colab": {
          "base_uri": "https://localhost:8080/",
          "height": 51
        }
      },
      "source": [
        "my_name = \"Suraj\" # Global Variable\n",
        "\n",
        "def print_name():\n",
        "  my_name = \"Hao\" # Local Variable\n",
        "  print(my_name)\n",
        "\n",
        "print_name()\n",
        "print(my_name)"
      ],
      "execution_count": 66,
      "outputs": [
        {
          "output_type": "stream",
          "text": [
            "Hao\n",
            "Suraj\n"
          ],
          "name": "stdout"
        }
      ]
    },
    {
      "cell_type": "markdown",
      "metadata": {
        "id": "8fhNflwjSi7p",
        "colab_type": "text"
      },
      "source": [
        "# Data Structures\n",
        "\n",
        "Ways of organizing multiple data that logically makes sense to be kept together. Data structures have their own data-types."
      ]
    },
    {
      "cell_type": "markdown",
      "metadata": {
        "id": "HYpnPT7ZTziR",
        "colab_type": "text"
      },
      "source": [
        "### Lists\n",
        "\n",
        "Ordered and indexed collection of data that need not be homogeneous."
      ]
    },
    {
      "cell_type": "code",
      "metadata": {
        "id": "ZwIyzcdlTy7t",
        "colab_type": "code",
        "colab": {}
      },
      "source": [
        "empty_list = []\n",
        "shopping_list = ['eggs', 'butter', 'avocado', 'ham', 'bread']\n",
        "non_homogeneous_list = ['eggs', 'avocado', 393, 'Pitt St']"
      ],
      "execution_count": 0,
      "outputs": []
    },
    {
      "cell_type": "markdown",
      "metadata": {
        "id": "_8XVFurPVSiz",
        "colab_type": "text"
      },
      "source": [
        "The values in the list are indexed so we can retrieve them by their index. In almost all programming languages index always starts with 0."
      ]
    },
    {
      "cell_type": "code",
      "metadata": {
        "id": "YY-ItaWWVjYY",
        "colab_type": "code",
        "outputId": "22c9e2d6-b0e1-4c14-b574-a7b843958dec",
        "colab": {
          "base_uri": "https://localhost:8080/",
          "height": 0
        }
      },
      "source": [
        "print(shopping_list[0])\n",
        "print(shopping_list[4])\n",
        "print(shopping_list[-2])"
      ],
      "execution_count": 68,
      "outputs": [
        {
          "output_type": "stream",
          "text": [
            "eggs\n",
            "bread\n",
            "ham\n"
          ],
          "name": "stdout"
        }
      ]
    },
    {
      "cell_type": "code",
      "metadata": {
        "id": "5midhEffZJ_o",
        "colab_type": "code",
        "outputId": "d1809131-6f7f-45e8-f4dc-cf729d30b65c",
        "colab": {
          "base_uri": "https://localhost:8080/",
          "height": 0
        }
      },
      "source": [
        "print(\"Type of shopping_list:\", type(shopping_list))"
      ],
      "execution_count": 69,
      "outputs": [
        {
          "output_type": "stream",
          "text": [
            "Type of shopping_list: <class 'list'>\n"
          ],
          "name": "stdout"
        }
      ]
    },
    {
      "cell_type": "markdown",
      "metadata": {
        "id": "bg-GIHA8bs5i",
        "colab_type": "text"
      },
      "source": [
        "To change the value of an element of the list use the assignment operator"
      ]
    },
    {
      "cell_type": "code",
      "metadata": {
        "id": "Qjvbx-gUbq_h",
        "colab_type": "code",
        "outputId": "052de885-6315-4e72-95b4-2fa4c72ad603",
        "colab": {
          "base_uri": "https://localhost:8080/",
          "height": 0
        }
      },
      "source": [
        "shopping_list[3] = 'bacon'\n",
        "print(shopping_list)"
      ],
      "execution_count": 70,
      "outputs": [
        {
          "output_type": "stream",
          "text": [
            "['eggs', 'butter', 'avocado', 'bacon', 'bread']\n"
          ],
          "name": "stdout"
        }
      ]
    },
    {
      "cell_type": "markdown",
      "metadata": {
        "id": "1TtL-Mvteb1W",
        "colab_type": "text"
      },
      "source": [
        "To know the size of a list use the `len()` function"
      ]
    },
    {
      "cell_type": "code",
      "metadata": {
        "id": "klAh6wa8ebX8",
        "colab_type": "code",
        "outputId": "1a71f579-8f3e-4926-f053-2d2a487c2c34",
        "colab": {
          "base_uri": "https://localhost:8080/",
          "height": 0
        }
      },
      "source": [
        "print(len(shopping_list))"
      ],
      "execution_count": 71,
      "outputs": [
        {
          "output_type": "stream",
          "text": [
            "5\n"
          ],
          "name": "stdout"
        }
      ]
    },
    {
      "cell_type": "markdown",
      "metadata": {
        "id": "uroBbWZK3Wjc",
        "colab_type": "text"
      },
      "source": [
        "#### List Comprehension\n",
        "\n",
        "List comprenhension is a short-hand to create list out of other data-structions. It also allows us to use control-flow statements to filter and select elements in data-structures."
      ]
    },
    {
      "cell_type": "code",
      "metadata": {
        "id": "ZMz3DrsY3WEu",
        "colab_type": "code",
        "outputId": "21c2005a-d9fd-4a8e-e885-a9c47a9ec13e",
        "colab": {
          "base_uri": "https://localhost:8080/",
          "height": 0
        }
      },
      "source": [
        "# List comprehension\n",
        "even_10 = [num for num in range(10) if num%2==0]\n",
        "print(even_10)\n",
        "# Equivalent\n",
        "even_10=[]\n",
        "for num in range(10):\n",
        "  if num%2==0:\n",
        "    even_10.append(num)\n",
        "print(even_10)\n",
        "\n",
        "# Another example\n",
        "square_10 = [num ** 2 for num in even_10]\n",
        "print(square_10)\n",
        "#Equivalent\n",
        "square_10 = []\n",
        "for num in even_10:\n",
        "  square_10.append(num ** 2)\n",
        "print(square_10)"
      ],
      "execution_count": 72,
      "outputs": [
        {
          "output_type": "stream",
          "text": [
            "[0, 2, 4, 6, 8]\n",
            "[0, 2, 4, 6, 8]\n",
            "[0, 4, 16, 36, 64]\n",
            "[0, 4, 16, 36, 64]\n"
          ],
          "name": "stdout"
        }
      ]
    },
    {
      "cell_type": "markdown",
      "metadata": {
        "id": "l7gVTTyhUnYD",
        "colab_type": "text"
      },
      "source": [
        "### Dictionaries\n",
        "\n",
        "Data structure to store Key-Value pairs association. Order does not matter as it is not indexed."
      ]
    },
    {
      "cell_type": "code",
      "metadata": {
        "id": "JxnGJZ9bSiP8",
        "colab_type": "code",
        "colab": {}
      },
      "source": [
        "empty_dict = {}\n",
        "shopping_dict = {'eggs':10, 'butter':'200gms', 'avocado':5, 'ham':'1kg', 'bread':1 }"
      ],
      "execution_count": 0,
      "outputs": []
    },
    {
      "cell_type": "markdown",
      "metadata": {
        "id": "EYu57s_iWQu-",
        "colab_type": "text"
      },
      "source": [
        "The values in the dictionary can be accessed by providing the required key."
      ]
    },
    {
      "cell_type": "code",
      "metadata": {
        "id": "kzSEW8QNPAj2",
        "colab_type": "code",
        "outputId": "8bd2dd7e-bacb-4c6c-bde7-47076cda230c",
        "colab": {
          "base_uri": "https://localhost:8080/",
          "height": 51
        }
      },
      "source": [
        "print(\"Butter Quantity:\", shopping_dict['butter'])\n",
        "print(\"Eggs Quantity:\", shopping_dict['eggs'])"
      ],
      "execution_count": 74,
      "outputs": [
        {
          "output_type": "stream",
          "text": [
            "Butter Quantity: 200gms\n",
            "Eggs Quantity: 10\n"
          ],
          "name": "stdout"
        }
      ]
    },
    {
      "cell_type": "markdown",
      "metadata": {
        "id": "HqAyNaOqcs6b",
        "colab_type": "text"
      },
      "source": [
        "The keys once put in a dict cannot be changed. The way to change the name of the key is to add a new key-value pair and delete the old one,"
      ]
    },
    {
      "cell_type": "code",
      "metadata": {
        "id": "eHkayHZ_c_QF",
        "colab_type": "code",
        "outputId": "78270dad-a0c8-4b59-c424-41c3eb9641bd",
        "colab": {
          "base_uri": "https://localhost:8080/",
          "height": 51
        }
      },
      "source": [
        "del(shopping_dict['ham']) # If you re-run this cell, it'll throw error since the key 'ham' does not exist after deletion.\n",
        "print(shopping_dict)\n",
        "shopping_dict['bacon']='1kg'\n",
        "print(shopping_dict)"
      ],
      "execution_count": 75,
      "outputs": [
        {
          "output_type": "stream",
          "text": [
            "{'eggs': 10, 'butter': '200gms', 'avocado': 5, 'bread': 1}\n",
            "{'eggs': 10, 'butter': '200gms', 'avocado': 5, 'bread': 1, 'bacon': '1kg'}\n"
          ],
          "name": "stdout"
        }
      ]
    },
    {
      "cell_type": "code",
      "metadata": {
        "id": "dYB1W2FxdH2m",
        "colab_type": "code",
        "colab": {}
      },
      "source": [
        ""
      ],
      "execution_count": 0,
      "outputs": []
    },
    {
      "cell_type": "markdown",
      "metadata": {
        "id": "GGs2StIDcEMU",
        "colab_type": "text"
      },
      "source": [
        "Similar to lists, to change the value of a key in the dict, use the assignment operator."
      ]
    },
    {
      "cell_type": "code",
      "metadata": {
        "id": "F5jkKvljcMNE",
        "colab_type": "code",
        "outputId": "f4db009b-d3ec-45e9-9db6-f3d998bdfa70",
        "colab": {
          "base_uri": "https://localhost:8080/",
          "height": 34
        }
      },
      "source": [
        "shopping_dict['bacon']='2kg'\n",
        "print(shopping_dict)"
      ],
      "execution_count": 76,
      "outputs": [
        {
          "output_type": "stream",
          "text": [
            "{'eggs': 10, 'butter': '200gms', 'avocado': 5, 'bread': 1, 'bacon': '2kg'}\n"
          ],
          "name": "stdout"
        }
      ]
    },
    {
      "cell_type": "markdown",
      "metadata": {
        "id": "yDcfX8dFemK2",
        "colab_type": "text"
      },
      "source": [
        "To know the number of key-value pairs in a dict use the `len()` function"
      ]
    },
    {
      "cell_type": "code",
      "metadata": {
        "id": "hMAXXicqelhI",
        "colab_type": "code",
        "outputId": "9ff41288-a86f-41b4-a322-d4d6c44f7c23",
        "colab": {
          "base_uri": "https://localhost:8080/",
          "height": 34
        }
      },
      "source": [
        "len(shopping_dict)"
      ],
      "execution_count": 77,
      "outputs": [
        {
          "output_type": "execute_result",
          "data": {
            "text/plain": [
              "5"
            ]
          },
          "metadata": {
            "tags": []
          },
          "execution_count": 77
        }
      ]
    },
    {
      "cell_type": "markdown",
      "metadata": {
        "id": "nCGxlhiOaOcO",
        "colab_type": "text"
      },
      "source": [
        "### Sets\n",
        "\n"
      ]
    },
    {
      "cell_type": "code",
      "metadata": {
        "id": "MGoqq7tuHPKh",
        "colab_type": "code",
        "outputId": "95a7104d-9708-4548-ccd7-03be707b589c",
        "colab": {
          "base_uri": "https://localhost:8080/",
          "height": 0
        }
      },
      "source": [
        "a = set([1,2,3,3,4])\n",
        "print(a)"
      ],
      "execution_count": 78,
      "outputs": [
        {
          "output_type": "stream",
          "text": [
            "{1, 2, 3, 4}\n"
          ],
          "name": "stdout"
        }
      ]
    },
    {
      "cell_type": "markdown",
      "metadata": {
        "id": "zB7_LgBreErz",
        "colab_type": "text"
      },
      "source": [
        "Since sets are not ordered the elements cannot be indexed and hence it cannot be accessed individually. But we can check for membership using the `in` and `not in` operators."
      ]
    },
    {
      "cell_type": "code",
      "metadata": {
        "id": "FSZmRmaneED2",
        "colab_type": "code",
        "outputId": "9b549921-fbd3-456d-cd24-cffd4420227c",
        "colab": {
          "base_uri": "https://localhost:8080/",
          "height": 0
        }
      },
      "source": [
        "print(1 in a)\n",
        "print(5 in a)\n",
        "print(3 not in a)"
      ],
      "execution_count": 79,
      "outputs": [
        {
          "output_type": "stream",
          "text": [
            "True\n",
            "False\n",
            "False\n"
          ],
          "name": "stdout"
        }
      ]
    },
    {
      "cell_type": "markdown",
      "metadata": {
        "id": "izrZjTtYfhgu",
        "colab_type": "text"
      },
      "source": [
        "Cardinality (size) of a set can be found using the `len()` function."
      ]
    },
    {
      "cell_type": "code",
      "metadata": {
        "id": "XmEzf0cmfn24",
        "colab_type": "code",
        "outputId": "3c4eee0e-58f5-4874-8761-e5783c193c71",
        "colab": {
          "base_uri": "https://localhost:8080/",
          "height": 0
        }
      },
      "source": [
        "print(len(a))"
      ],
      "execution_count": 80,
      "outputs": [
        {
          "output_type": "stream",
          "text": [
            "4\n"
          ],
          "name": "stdout"
        }
      ]
    },
    {
      "cell_type": "markdown",
      "metadata": {
        "id": "Zg_ChUR1azhA",
        "colab_type": "text"
      },
      "source": [
        "### Tuples\n"
      ]
    },
    {
      "cell_type": "code",
      "metadata": {
        "id": "nWHkfUjiatdj",
        "colab_type": "code",
        "outputId": "ee20cb3f-3a46-4fac-f1e4-5f07e24ae165",
        "colab": {
          "base_uri": "https://localhost:8080/",
          "height": 51
        }
      },
      "source": [
        "a = tuple([1,2,3,3,4])\n",
        "print(a)\n",
        "a = (1,2,3,3,4) \n",
        "print(a)"
      ],
      "execution_count": 81,
      "outputs": [
        {
          "output_type": "stream",
          "text": [
            "(1, 2, 3, 3, 4)\n",
            "(1, 2, 3, 3, 4)\n"
          ],
          "name": "stdout"
        }
      ]
    },
    {
      "cell_type": "markdown",
      "metadata": {
        "id": "AI-YOCOGbKP2",
        "colab_type": "text"
      },
      "source": [
        "The only difference between a tuple and a list is that once a tuple is defined it is immutable."
      ]
    },
    {
      "cell_type": "code",
      "metadata": {
        "id": "kqcFnL5ibDA_",
        "colab_type": "code",
        "colab": {}
      },
      "source": [
        "a = (1,2,3,3,4)\n",
        "b = [1,2,3,3,4]\n",
        "b[0]=2 #possible\n",
        "#a[0]=2 #not-possible"
      ],
      "execution_count": 0,
      "outputs": []
    },
    {
      "cell_type": "markdown",
      "metadata": {
        "id": "B_dM9M0hgQW5",
        "colab_type": "text"
      },
      "source": [
        "# Dot Operator\n",
        "\n",
        "Methods are functions that are part of a python object. Dot operator is used to call these methods. For example, the list data structure has method called `append()` which is used to append new elements to the end of a give list."
      ]
    },
    {
      "cell_type": "code",
      "metadata": {
        "id": "pYSzNa8flYDw",
        "colab_type": "code",
        "outputId": "384aebaa-fdbd-42c0-e4ed-36598b2cf0c0",
        "colab": {
          "base_uri": "https://localhost:8080/",
          "height": 51
        }
      },
      "source": [
        "precious_metal_list = ['gold', 'silver']\n",
        "print(precious_metal_list)\n",
        "precious_metal_list.append('platinum') # Use the dot operator to call the append() method of the list object\n",
        "print(precious_metal_list)"
      ],
      "execution_count": 83,
      "outputs": [
        {
          "output_type": "stream",
          "text": [
            "['gold', 'silver']\n",
            "['gold', 'silver', 'platinum']\n"
          ],
          "name": "stdout"
        }
      ]
    },
    {
      "cell_type": "markdown",
      "metadata": {
        "id": "7UeeIlntmMVM",
        "colab_type": "text"
      },
      "source": [
        "# Mathematical Operators\n",
        "\n",
        "| Math      | Operator |\n",
        "| ----------- | ----------- |\n",
        "| Addition      | +       |\n",
        "| Subtration   | -        |\n",
        "| Multiplication   | *        |\n",
        "| Division   | /        |\n",
        "| Integer Division   | //        |\n",
        "| Exponential   | **        |\n",
        "| Remainder (modulo)   | %        |"
      ]
    },
    {
      "cell_type": "markdown",
      "metadata": {
        "id": "JnYzB4Yjm73r",
        "colab_type": "text"
      },
      "source": [
        "# Boolean Operators\n",
        "\n",
        "| Math      | Operator |\n",
        "| ----------- | ----------- |\n",
        "| Less than      | <       |\n",
        "| Less than or equal   | <=        |\n",
        "| Greater than   | >        |\n",
        "| Greater than or equal  | >=        |\n",
        "| Value Equality   | ==, !=        |\n",
        "| Object Equality   | is, is not        |\n",
        "| Membership   | in, not in        |\n",
        "| Logical   | and, or, not        |"
      ]
    },
    {
      "cell_type": "markdown",
      "metadata": {
        "id": "RiqytHAJrcSd",
        "colab_type": "text"
      },
      "source": [
        "#  Repetition\n",
        "\n",
        "In python we use loops to iterate the same block of code multiple times with optionally different values. The two main loop statements are: `for` and `while`\n",
        "\n",
        "### `for` loop\n",
        "\n",
        "The for loop iterates over the item of any sequence (list, dict, string, etc.)"
      ]
    },
    {
      "cell_type": "code",
      "metadata": {
        "id": "XPSQk51ksM4x",
        "colab_type": "code",
        "outputId": "177577eb-e351-4c33-d44b-f74334c779df",
        "colab": {
          "base_uri": "https://localhost:8080/",
          "height": 68
        }
      },
      "source": [
        "my_list = ['a', 'b', 'c']\n",
        "for elem in my_list:\n",
        "  print(elem)"
      ],
      "execution_count": 84,
      "outputs": [
        {
          "output_type": "stream",
          "text": [
            "a\n",
            "b\n",
            "c\n"
          ],
          "name": "stdout"
        }
      ]
    },
    {
      "cell_type": "code",
      "metadata": {
        "id": "rwZOdGtft66N",
        "colab_type": "code",
        "outputId": "fe60ffbe-5556-4ac4-9b19-997fbd63925e",
        "colab": {
          "base_uri": "https://localhost:8080/",
          "height": 102
        }
      },
      "source": [
        "my_string = \"hello\"\n",
        "for char in my_string:\n",
        "  print(char)"
      ],
      "execution_count": 85,
      "outputs": [
        {
          "output_type": "stream",
          "text": [
            "h\n",
            "e\n",
            "l\n",
            "l\n",
            "o\n"
          ],
          "name": "stdout"
        }
      ]
    },
    {
      "cell_type": "markdown",
      "metadata": {
        "id": "1VtE9IIEt_rM",
        "colab_type": "text"
      },
      "source": [
        "`range([start], stop)` is a built-in function that generates a list from start (optional, 0 by default) to stop-1."
      ]
    },
    {
      "cell_type": "code",
      "metadata": {
        "id": "k07T6qK4t8d5",
        "colab_type": "code",
        "outputId": "cd026a34-956c-400e-ebec-7188921db476",
        "colab": {
          "base_uri": "https://localhost:8080/",
          "height": 102
        }
      },
      "source": [
        "for num in range(5):\n",
        "  print(num)"
      ],
      "execution_count": 86,
      "outputs": [
        {
          "output_type": "stream",
          "text": [
            "0\n",
            "1\n",
            "2\n",
            "3\n",
            "4\n"
          ],
          "name": "stdout"
        }
      ]
    },
    {
      "cell_type": "code",
      "metadata": {
        "id": "0aZ0QMjXutsu",
        "colab_type": "code",
        "outputId": "3601d6cf-d58e-4b03-cb9a-870c33954cbe",
        "colab": {
          "base_uri": "https://localhost:8080/",
          "height": 85
        }
      },
      "source": [
        "for num in range(3,7):\n",
        "  print(num)"
      ],
      "execution_count": 87,
      "outputs": [
        {
          "output_type": "stream",
          "text": [
            "3\n",
            "4\n",
            "5\n",
            "6\n"
          ],
          "name": "stdout"
        }
      ]
    },
    {
      "cell_type": "markdown",
      "metadata": {
        "id": "u5GUnh7NvHwI",
        "colab_type": "text"
      },
      "source": [
        "### `while` loop\n",
        "\n",
        "The body of the `while` loop get executed until the condition associated with the while is falsified."
      ]
    },
    {
      "cell_type": "code",
      "metadata": {
        "id": "p-AZvkVQvHbW",
        "colab_type": "code",
        "outputId": "ea88aa46-669f-49da-b6bf-cdcfbdc864fb",
        "colab": {
          "base_uri": "https://localhost:8080/",
          "height": 0
        }
      },
      "source": [
        "total = 0\n",
        "num = 0\n",
        "while num < 10: # the while conition\n",
        "  total = total + num\n",
        "  num = num + 1\n",
        "print(total)"
      ],
      "execution_count": 88,
      "outputs": [
        {
          "output_type": "stream",
          "text": [
            "45\n"
          ],
          "name": "stdout"
        }
      ]
    },
    {
      "cell_type": "markdown",
      "metadata": {
        "id": "8b2VONdlv5nd",
        "colab_type": "text"
      },
      "source": [
        "### Infinite loop\n",
        "\n",
        "While writing a loop we need to make sure that the execution moves towards a state where the condition of the while can be falsified (or a `break` control flow is executed). Otherwise the while loop can execute the block ad infinitum."
      ]
    },
    {
      "cell_type": "code",
      "metadata": {
        "id": "eryg5M5pwq4M",
        "colab_type": "code",
        "colab": {
          "base_uri": "https://localhost:8080/",
          "height": 0
        },
        "outputId": "0691283f-2598-42c7-d6a3-92a3761e8247"
      },
      "source": [
        "total = 0\n",
        "num = 0\n",
        "while num < 10: \n",
        "  total = total + num\n",
        "  num = num + 1\n",
        "  # num = num - 1 # Infinite loop\n",
        "print(total)"
      ],
      "execution_count": 89,
      "outputs": [
        {
          "output_type": "stream",
          "text": [
            "45\n"
          ],
          "name": "stdout"
        }
      ]
    },
    {
      "cell_type": "markdown",
      "metadata": {
        "id": "k28cOZIJp-6s",
        "colab_type": "text"
      },
      "source": [
        "# Control Flow\n",
        "\n",
        "Controls flow statements allow you manipulate the flow of execution of the program during runtime. Following are the control flow statements in python:\n",
        "\n",
        "* `if <condition>:` - enters a block of code only if condition is `True`\n",
        "* `if <condition>:` ... `else:` - enters the else block if condition is `False`\n",
        "* `if <condition>:` ... `elif <condition>: ... - `elif allows you to check for another condition if the first if is `False`. The `elif` block can be added as many as required.\n",
        "* `break` - breaks out of a `for` or `while` loop\n",
        "* `continue` - resume the next iteration of the loop without executing the code after the `continue` statement\n"
      ]
    },
    {
      "cell_type": "code",
      "metadata": {
        "id": "JST0C3zJq_pv",
        "colab_type": "code",
        "outputId": "1fae2ba8-a920-45e8-9293-d7c9a22bd35e",
        "colab": {
          "base_uri": "https://localhost:8080/",
          "height": 34
        }
      },
      "source": [
        "a = 9\n",
        "if a%2 == 0: # checking if a is even\n",
        "  print(a, 'is even.')\n",
        "else:\n",
        "  print(a, 'is odd.')"
      ],
      "execution_count": 90,
      "outputs": [
        {
          "output_type": "stream",
          "text": [
            "9 is odd.\n"
          ],
          "name": "stdout"
        }
      ]
    },
    {
      "cell_type": "code",
      "metadata": {
        "id": "ZfJZqxxQzJEt",
        "colab_type": "code",
        "outputId": "ee95b27b-00b5-4749-8524-b316e5884547",
        "colab": {
          "base_uri": "https://localhost:8080/",
          "height": 34
        }
      },
      "source": [
        "a = 17\n",
        "if a%2 == 0:\n",
        "  print(a, 'is even.')\n",
        "elif a%3 == 0:\n",
        "  print(a, 'is odd and a multiple of three.')\n",
        "else:\n",
        "  print(a, 'is odd and not a multiple of three.')"
      ],
      "execution_count": 91,
      "outputs": [
        {
          "output_type": "stream",
          "text": [
            "17 is odd and not a multiple of three.\n"
          ],
          "name": "stdout"
        }
      ]
    },
    {
      "cell_type": "code",
      "metadata": {
        "id": "z2xODBBSzqrs",
        "colab_type": "code",
        "outputId": "2051160a-38f5-4e0c-f1fe-c50cd790f62e",
        "colab": {
          "base_uri": "https://localhost:8080/",
          "height": 34
        }
      },
      "source": [
        "# Multiply number from 1 to 50\n",
        "prod = 1 # Variable\n",
        "num = 1\n",
        "while True: # Loop\n",
        "  prod = prod * num\n",
        "  num = num + 1\n",
        "  if num > 50:\n",
        "    break\n",
        "print(prod)"
      ],
      "execution_count": 92,
      "outputs": [
        {
          "output_type": "stream",
          "text": [
            "30414093201713378043612608166064768844377641568960512000000000000\n"
          ],
          "name": "stdout"
        }
      ]
    },
    {
      "cell_type": "code",
      "metadata": {
        "id": "Q_xgNwUm1PZS",
        "colab_type": "code",
        "outputId": "de97a328-0579-40a2-c317-80b6938e4913",
        "colab": {
          "base_uri": "https://localhost:8080/",
          "height": 102
        }
      },
      "source": [
        "# Print even numbers from 1 to 10\n",
        "for num in range(1, 11):\n",
        "  if num%2!=0:\n",
        "    continue\n",
        "  print(num)"
      ],
      "execution_count": 93,
      "outputs": [
        {
          "output_type": "stream",
          "text": [
            "2\n",
            "4\n",
            "6\n",
            "8\n",
            "10\n"
          ],
          "name": "stdout"
        }
      ]
    },
    {
      "cell_type": "code",
      "metadata": {
        "id": "cx_dHuDI2Evu",
        "colab_type": "code",
        "outputId": "60603f97-1215-4774-ad79-720a0433a7bc",
        "colab": {
          "base_uri": "https://localhost:8080/",
          "height": 34
        }
      },
      "source": [
        "# remove all vowels from string\n",
        "string = \"Hello world\"\n",
        "no_vowel_str = \"\"\n",
        "for char in string:\n",
        "  if char in ['a', 'e', 'i', 'o', 'u']:\n",
        "    continue\n",
        "  no_vowel_str = no_vowel_str + char\n",
        "print(no_vowel_str)"
      ],
      "execution_count": 94,
      "outputs": [
        {
          "output_type": "stream",
          "text": [
            "Hll wrld\n"
          ],
          "name": "stdout"
        }
      ]
    },
    {
      "cell_type": "markdown",
      "metadata": {
        "id": "BCJD2ecZ5gC5",
        "colab_type": "text"
      },
      "source": [
        "# Exception Handling\n",
        "\n",
        "The `try: ... except: ...` code block in python allows us to catch errors that happen during the running of the code. Instead of the application crashing, we can:\n",
        "\n",
        "* allow the code to gracefully exit by displaying proper error messages\n",
        "* use different code to circumvent the error and proceed the program."
      ]
    },
    {
      "cell_type": "code",
      "metadata": {
        "id": "P_pdZv9L6OjA",
        "colab_type": "code",
        "colab": {
          "base_uri": "https://localhost:8080/",
          "height": 34
        },
        "outputId": "2c30a17a-20af-413a-f27f-28c21df32bca"
      },
      "source": [
        "try:\n",
        "  print(shopping_dict['ham'])\n",
        "except:\n",
        "  print(\"Error occoured: invalid shopping list entry.\")"
      ],
      "execution_count": 97,
      "outputs": [
        {
          "output_type": "stream",
          "text": [
            "Error occoured: invalid shopping list entry.\n"
          ],
          "name": "stdout"
        }
      ]
    },
    {
      "cell_type": "markdown",
      "metadata": {
        "id": "vSLv--ah61eI",
        "colab_type": "text"
      },
      "source": [
        "I we can anticipate what kind of error is likely to occour we can catch those specific errors by providing the error name in the `except` block. If we specify an error all other errors won't be handled."
      ]
    },
    {
      "cell_type": "code",
      "metadata": {
        "id": "Y-IUHasx60px",
        "colab_type": "code",
        "colab": {
          "base_uri": "https://localhost:8080/",
          "height": 34
        },
        "outputId": "5e57bb46-d1d3-4824-b56e-e12e08f04d10"
      },
      "source": [
        "try:\n",
        "  print(shopping_dict['ham'])\n",
        "except KeyError:\n",
        "  print(\"Error occoured: invalid shopping list entry.\")"
      ],
      "execution_count": 99,
      "outputs": [
        {
          "output_type": "stream",
          "text": [
            "Error occoured: invalid shopping list entry.\n"
          ],
          "name": "stdout"
        }
      ]
    },
    {
      "cell_type": "markdown",
      "metadata": {
        "id": "X3ztn9Oo7ZbS",
        "colab_type": "text"
      },
      "source": [
        "We can catch multiple errors by specifying multiple `except` blocks. Only the first error would be caught and handled."
      ]
    },
    {
      "cell_type": "code",
      "metadata": {
        "id": "0vrwMRJy7Ll7",
        "colab_type": "code",
        "colab": {
          "base_uri": "https://localhost:8080/",
          "height": 34
        },
        "outputId": "f7dc8bd9-f6e9-4ed7-d8cb-729838a713fa"
      },
      "source": [
        "try:\n",
        "  a = int(\"hello\")\n",
        "  print(shopping_dict['ham'])\n",
        "except KeyError:\n",
        "  print(\"Error occoured: invalid shopping list entry.\")\n",
        "except ValueError:\n",
        "  print(\"Error occoured: trying to convert non-integer string to int type.\")"
      ],
      "execution_count": 100,
      "outputs": [
        {
          "output_type": "stream",
          "text": [
            "Error occoured: trying to convert non-integer string to int type.\n"
          ],
          "name": "stdout"
        }
      ]
    },
    {
      "cell_type": "markdown",
      "metadata": {
        "id": "bEMBNiGKo0AP",
        "colab_type": "text"
      },
      "source": [
        "# Read the Documentation\n",
        "\n",
        "The python documentation contains all the methods and attributes of the various objects we went through. Being able to parse and understand the python documention is an essential part of learning to code. To do the exercises below you'll have to refer to the documentation.\n",
        "\n",
        "https://docs.python.org/3.6/\n",
        "\n",
        "The best way to access the docs for a specific python object is to just google it along with \"python doc\" string. Eg: \"list python doc\" for documentation of the `list` data structure."
      ]
    },
    {
      "cell_type": "markdown",
      "metadata": {
        "id": "XEcXwUCpou2w",
        "colab_type": "text"
      },
      "source": [
        "# Excercises"
      ]
    },
    {
      "cell_type": "markdown",
      "metadata": {
        "id": "FP_urpqA3tkR",
        "colab_type": "text"
      },
      "source": [
        "**Exercise 1:** Print the fibonacci series till N. Obtain the value of N from the user using the `input()` function. A fibonacci series $f$ is defined as $f_n= f_{n-1} + f_{n-2}$ and $f_1=0$ and $f_2=1$"
      ]
    },
    {
      "cell_type": "code",
      "metadata": {
        "id": "aihHlj5b3s8b",
        "colab_type": "code",
        "colab": {}
      },
      "source": [
        ""
      ],
      "execution_count": 0,
      "outputs": []
    },
    {
      "cell_type": "markdown",
      "metadata": {
        "id": "04Bddn5v4MEG",
        "colab_type": "text"
      },
      "source": [
        "**Exercise 2:** Given two sets car=\\{'Honda', 'Ferrari', 'Mazda'\\} and horse_power=\\{306, 586, 240, 1000\\} . Write a program to evaluate and display the cartesian product car$\\times$horse_power "
      ]
    },
    {
      "cell_type": "code",
      "metadata": {
        "id": "z5Sc7ucD4Lh0",
        "colab_type": "code",
        "colab": {}
      },
      "source": [
        ""
      ],
      "execution_count": 0,
      "outputs": []
    },
    {
      "cell_type": "markdown",
      "metadata": {
        "id": "6H9sMHUL-eso",
        "colab_type": "text"
      },
      "source": [
        "**Exercise 3:** Deisgn and Implement a two-player tic-tac-toe game with the following specification.\n",
        "There are two players `player-x`, who marks `x` and `player-o`, who marks `o`. The player who succeeds in placing three of their marks in a horizontal, vertical, or diagonal row is the winner. When in turn, the players inputs the cell number as shows below to specify where they should place the mark.\n",
        "\n",
        "![Tic Tac Toe](https://github.com/surajx/AIFS/raw/master/images/ttt_game.png)\n",
        "\n",
        "*Hint:* lists can be two-dimensional"
      ]
    },
    {
      "cell_type": "markdown",
      "metadata": {
        "id": "NmU7_JSkg9hX",
        "colab_type": "text"
      },
      "source": [
        "**Exercise 4:** Show by implementation that the ratio of successive terms $\\frac{f_{n+1}}{f_n}$ of the fibonacci series converges to the golden ratio: $\\phi=\\frac{1+\\sqrt{5}}{2}=1.618033988\\ldots$"
      ]
    },
    {
      "cell_type": "code",
      "metadata": {
        "id": "9nCmwwdWmkaS",
        "colab_type": "code",
        "colab": {}
      },
      "source": [
        ""
      ],
      "execution_count": 0,
      "outputs": []
    }
  ]
}